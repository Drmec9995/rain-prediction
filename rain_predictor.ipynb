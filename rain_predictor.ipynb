{
 "cells": [
  {
   "cell_type": "markdown",
   "metadata": {},
   "source": [
    "# RAIN PREDICTION"
   ]
  },
  {
   "cell_type": "markdown",
   "metadata": {},
   "source": [
    "Rain is one of the most crucial resources in the existence of human being, rain has been what almost all our activities depends on. The ability to predict the time and day rain will fall is a very interesting part of technology, this ability has given us opportunities to know, when, where rain will likely fall, which make us plan ahead of the event.\n",
    "\n",
    "\n",
    "more importantly, we all know that rain is important to agricultiural production, especially crop production, tha ability to predict rainfall will give us an edge in this particular aspect of agriculture.\n",
    "\n",
    "the following are the importance of rainfall to agriculture.\n",
    "* It makes us predict the season to cultivate some crops\n",
    "* It helps us to make quick decison on where best to plant some specific crop.\n",
    "* It helps us to know if like flood is going to occur in a particular area or not.\n",
    "* It help us know the best time to rear poultry chicks and other birds.\n",
    "* It help us to know the suitable time to reduce the water level in our pond to aviod rain flushing our fishes.\n",
    "* It prepare our mind for better planning of the farming activities etc..\n",
    "\n",
    "\n",
    "with all this information about the importance of rain fall prediction, i thing its time to proceed with the project.\n",
    "\n"
   ]
  },
  {
   "cell_type": "markdown",
   "metadata": {},
   "source": [
    "#### Problem Statment:\n",
    "\n",
    "let say you plan to travel to another state with your luggage, and it rains the next day. It will be very disheartening because your luggage will also be wet and also it will likely slow down your travelling. what if we could predict whether it will rain or not the next day, it would be very helpful to us. "
   ]
  },
  {
   "cell_type": "markdown",
   "metadata": {},
   "source": [
    "## Aim and Objective:\n",
    "The main of this project is to detect whether it will rain the next day with the help of using weather details "
   ]
  },
  {
   "cell_type": "markdown",
   "metadata": {},
   "source": [
    "### Steps to take to get the  project done"
   ]
  },
  {
   "cell_type": "markdown",
   "metadata": {},
   "source": [
    "In this project we will be building a Machine Learning Model with the help of different ML and Auto ML Techniques to predict whether it will rain or not the next day. We will also deploy the model using Flask API and Heroku."
   ]
  },
  {
   "cell_type": "markdown",
   "metadata": {},
   "source": [
    "#### About the Auto Ml library.\n",
    "PyCaret is an open source, low-code machine learning library in python that allows us to go from preparing data to deploying our model within mo=inutes in our choice of notebook .\n",
    "\n",
    "Importance:\n",
    "* Increase productivity\n",
    "* Easy to use\n",
    "* Business Ready"
   ]
  },
  {
   "cell_type": "markdown",
   "metadata": {},
   "source": [
    "### PROJECT TIME LINE:\n",
    "\n",
    "1. Data Analysis\n",
    "    * Handling Missing Values\n",
    "    * Handling Categorical Variables\n",
    "2. Feature Engineering\n",
    "3. Model building using ML\n",
    "4. Model buidling using Auto ML\n",
    "5. Model Deployment"
   ]
  },
  {
   "cell_type": "code",
   "execution_count": 3,
   "metadata": {},
   "outputs": [],
   "source": [
    "# IMPORTING LIBRARIES\n",
    "import pandas as pd\n",
    "import numpy as np\n",
    "import seaborn as sn\n",
    "from matplotlib import pyplot as plt\n",
    "%matplotlib inline\n",
    "from sklearn.model_selection import train_test_split\n",
    "from sklearn import metrics \n",
    "from sklearn.metrics import accuracy_score,confusion_matrix,classification_report\n"
   ]
  },
  {
   "cell_type": "code",
   "execution_count": 4,
   "metadata": {},
   "outputs": [],
   "source": [
    "# importing data...\n",
    "data = pd.read_csv('weatherAUS.csv')\n",
    "# below code will make us see all the columns present in the data\n",
    "pd.set_option('display.max_column',None)"
   ]
  },
  {
   "cell_type": "code",
   "execution_count": 5,
   "metadata": {},
   "outputs": [
    {
     "data": {
      "text/html": [
       "<div>\n",
       "<style scoped>\n",
       "    .dataframe tbody tr th:only-of-type {\n",
       "        vertical-align: middle;\n",
       "    }\n",
       "\n",
       "    .dataframe tbody tr th {\n",
       "        vertical-align: top;\n",
       "    }\n",
       "\n",
       "    .dataframe thead th {\n",
       "        text-align: right;\n",
       "    }\n",
       "</style>\n",
       "<table border=\"1\" class=\"dataframe\">\n",
       "  <thead>\n",
       "    <tr style=\"text-align: right;\">\n",
       "      <th></th>\n",
       "      <th>Date</th>\n",
       "      <th>Location</th>\n",
       "      <th>MinTemp</th>\n",
       "      <th>MaxTemp</th>\n",
       "      <th>Rainfall</th>\n",
       "      <th>Evaporation</th>\n",
       "      <th>Sunshine</th>\n",
       "      <th>WindGustDir</th>\n",
       "      <th>WindGustSpeed</th>\n",
       "      <th>WindDir9am</th>\n",
       "      <th>WindDir3pm</th>\n",
       "      <th>WindSpeed9am</th>\n",
       "      <th>WindSpeed3pm</th>\n",
       "      <th>Humidity9am</th>\n",
       "      <th>Humidity3pm</th>\n",
       "      <th>Pressure9am</th>\n",
       "      <th>Pressure3pm</th>\n",
       "      <th>Cloud9am</th>\n",
       "      <th>Cloud3pm</th>\n",
       "      <th>Temp9am</th>\n",
       "      <th>Temp3pm</th>\n",
       "      <th>RainToday</th>\n",
       "      <th>RainTomorrow</th>\n",
       "    </tr>\n",
       "  </thead>\n",
       "  <tbody>\n",
       "    <tr>\n",
       "      <th>0</th>\n",
       "      <td>2008-12-01</td>\n",
       "      <td>Albury</td>\n",
       "      <td>13.4</td>\n",
       "      <td>22.9</td>\n",
       "      <td>0.6</td>\n",
       "      <td>NaN</td>\n",
       "      <td>NaN</td>\n",
       "      <td>W</td>\n",
       "      <td>44.0</td>\n",
       "      <td>W</td>\n",
       "      <td>WNW</td>\n",
       "      <td>20.0</td>\n",
       "      <td>24.0</td>\n",
       "      <td>71.0</td>\n",
       "      <td>22.0</td>\n",
       "      <td>1007.7</td>\n",
       "      <td>1007.1</td>\n",
       "      <td>8.0</td>\n",
       "      <td>NaN</td>\n",
       "      <td>16.9</td>\n",
       "      <td>21.8</td>\n",
       "      <td>No</td>\n",
       "      <td>No</td>\n",
       "    </tr>\n",
       "    <tr>\n",
       "      <th>1</th>\n",
       "      <td>2008-12-02</td>\n",
       "      <td>Albury</td>\n",
       "      <td>7.4</td>\n",
       "      <td>25.1</td>\n",
       "      <td>0.0</td>\n",
       "      <td>NaN</td>\n",
       "      <td>NaN</td>\n",
       "      <td>WNW</td>\n",
       "      <td>44.0</td>\n",
       "      <td>NNW</td>\n",
       "      <td>WSW</td>\n",
       "      <td>4.0</td>\n",
       "      <td>22.0</td>\n",
       "      <td>44.0</td>\n",
       "      <td>25.0</td>\n",
       "      <td>1010.6</td>\n",
       "      <td>1007.8</td>\n",
       "      <td>NaN</td>\n",
       "      <td>NaN</td>\n",
       "      <td>17.2</td>\n",
       "      <td>24.3</td>\n",
       "      <td>No</td>\n",
       "      <td>No</td>\n",
       "    </tr>\n",
       "    <tr>\n",
       "      <th>2</th>\n",
       "      <td>2008-12-03</td>\n",
       "      <td>Albury</td>\n",
       "      <td>12.9</td>\n",
       "      <td>25.7</td>\n",
       "      <td>0.0</td>\n",
       "      <td>NaN</td>\n",
       "      <td>NaN</td>\n",
       "      <td>WSW</td>\n",
       "      <td>46.0</td>\n",
       "      <td>W</td>\n",
       "      <td>WSW</td>\n",
       "      <td>19.0</td>\n",
       "      <td>26.0</td>\n",
       "      <td>38.0</td>\n",
       "      <td>30.0</td>\n",
       "      <td>1007.6</td>\n",
       "      <td>1008.7</td>\n",
       "      <td>NaN</td>\n",
       "      <td>2.0</td>\n",
       "      <td>21.0</td>\n",
       "      <td>23.2</td>\n",
       "      <td>No</td>\n",
       "      <td>No</td>\n",
       "    </tr>\n",
       "    <tr>\n",
       "      <th>3</th>\n",
       "      <td>2008-12-04</td>\n",
       "      <td>Albury</td>\n",
       "      <td>9.2</td>\n",
       "      <td>28.0</td>\n",
       "      <td>0.0</td>\n",
       "      <td>NaN</td>\n",
       "      <td>NaN</td>\n",
       "      <td>NE</td>\n",
       "      <td>24.0</td>\n",
       "      <td>SE</td>\n",
       "      <td>E</td>\n",
       "      <td>11.0</td>\n",
       "      <td>9.0</td>\n",
       "      <td>45.0</td>\n",
       "      <td>16.0</td>\n",
       "      <td>1017.6</td>\n",
       "      <td>1012.8</td>\n",
       "      <td>NaN</td>\n",
       "      <td>NaN</td>\n",
       "      <td>18.1</td>\n",
       "      <td>26.5</td>\n",
       "      <td>No</td>\n",
       "      <td>No</td>\n",
       "    </tr>\n",
       "    <tr>\n",
       "      <th>4</th>\n",
       "      <td>2008-12-05</td>\n",
       "      <td>Albury</td>\n",
       "      <td>17.5</td>\n",
       "      <td>32.3</td>\n",
       "      <td>1.0</td>\n",
       "      <td>NaN</td>\n",
       "      <td>NaN</td>\n",
       "      <td>W</td>\n",
       "      <td>41.0</td>\n",
       "      <td>ENE</td>\n",
       "      <td>NW</td>\n",
       "      <td>7.0</td>\n",
       "      <td>20.0</td>\n",
       "      <td>82.0</td>\n",
       "      <td>33.0</td>\n",
       "      <td>1010.8</td>\n",
       "      <td>1006.0</td>\n",
       "      <td>7.0</td>\n",
       "      <td>8.0</td>\n",
       "      <td>17.8</td>\n",
       "      <td>29.7</td>\n",
       "      <td>No</td>\n",
       "      <td>No</td>\n",
       "    </tr>\n",
       "    <tr>\n",
       "      <th>...</th>\n",
       "      <td>...</td>\n",
       "      <td>...</td>\n",
       "      <td>...</td>\n",
       "      <td>...</td>\n",
       "      <td>...</td>\n",
       "      <td>...</td>\n",
       "      <td>...</td>\n",
       "      <td>...</td>\n",
       "      <td>...</td>\n",
       "      <td>...</td>\n",
       "      <td>...</td>\n",
       "      <td>...</td>\n",
       "      <td>...</td>\n",
       "      <td>...</td>\n",
       "      <td>...</td>\n",
       "      <td>...</td>\n",
       "      <td>...</td>\n",
       "      <td>...</td>\n",
       "      <td>...</td>\n",
       "      <td>...</td>\n",
       "      <td>...</td>\n",
       "      <td>...</td>\n",
       "      <td>...</td>\n",
       "    </tr>\n",
       "    <tr>\n",
       "      <th>145455</th>\n",
       "      <td>2017-06-21</td>\n",
       "      <td>Uluru</td>\n",
       "      <td>2.8</td>\n",
       "      <td>23.4</td>\n",
       "      <td>0.0</td>\n",
       "      <td>NaN</td>\n",
       "      <td>NaN</td>\n",
       "      <td>E</td>\n",
       "      <td>31.0</td>\n",
       "      <td>SE</td>\n",
       "      <td>ENE</td>\n",
       "      <td>13.0</td>\n",
       "      <td>11.0</td>\n",
       "      <td>51.0</td>\n",
       "      <td>24.0</td>\n",
       "      <td>1024.6</td>\n",
       "      <td>1020.3</td>\n",
       "      <td>NaN</td>\n",
       "      <td>NaN</td>\n",
       "      <td>10.1</td>\n",
       "      <td>22.4</td>\n",
       "      <td>No</td>\n",
       "      <td>No</td>\n",
       "    </tr>\n",
       "    <tr>\n",
       "      <th>145456</th>\n",
       "      <td>2017-06-22</td>\n",
       "      <td>Uluru</td>\n",
       "      <td>3.6</td>\n",
       "      <td>25.3</td>\n",
       "      <td>0.0</td>\n",
       "      <td>NaN</td>\n",
       "      <td>NaN</td>\n",
       "      <td>NNW</td>\n",
       "      <td>22.0</td>\n",
       "      <td>SE</td>\n",
       "      <td>N</td>\n",
       "      <td>13.0</td>\n",
       "      <td>9.0</td>\n",
       "      <td>56.0</td>\n",
       "      <td>21.0</td>\n",
       "      <td>1023.5</td>\n",
       "      <td>1019.1</td>\n",
       "      <td>NaN</td>\n",
       "      <td>NaN</td>\n",
       "      <td>10.9</td>\n",
       "      <td>24.5</td>\n",
       "      <td>No</td>\n",
       "      <td>No</td>\n",
       "    </tr>\n",
       "    <tr>\n",
       "      <th>145457</th>\n",
       "      <td>2017-06-23</td>\n",
       "      <td>Uluru</td>\n",
       "      <td>5.4</td>\n",
       "      <td>26.9</td>\n",
       "      <td>0.0</td>\n",
       "      <td>NaN</td>\n",
       "      <td>NaN</td>\n",
       "      <td>N</td>\n",
       "      <td>37.0</td>\n",
       "      <td>SE</td>\n",
       "      <td>WNW</td>\n",
       "      <td>9.0</td>\n",
       "      <td>9.0</td>\n",
       "      <td>53.0</td>\n",
       "      <td>24.0</td>\n",
       "      <td>1021.0</td>\n",
       "      <td>1016.8</td>\n",
       "      <td>NaN</td>\n",
       "      <td>NaN</td>\n",
       "      <td>12.5</td>\n",
       "      <td>26.1</td>\n",
       "      <td>No</td>\n",
       "      <td>No</td>\n",
       "    </tr>\n",
       "    <tr>\n",
       "      <th>145458</th>\n",
       "      <td>2017-06-24</td>\n",
       "      <td>Uluru</td>\n",
       "      <td>7.8</td>\n",
       "      <td>27.0</td>\n",
       "      <td>0.0</td>\n",
       "      <td>NaN</td>\n",
       "      <td>NaN</td>\n",
       "      <td>SE</td>\n",
       "      <td>28.0</td>\n",
       "      <td>SSE</td>\n",
       "      <td>N</td>\n",
       "      <td>13.0</td>\n",
       "      <td>7.0</td>\n",
       "      <td>51.0</td>\n",
       "      <td>24.0</td>\n",
       "      <td>1019.4</td>\n",
       "      <td>1016.5</td>\n",
       "      <td>3.0</td>\n",
       "      <td>2.0</td>\n",
       "      <td>15.1</td>\n",
       "      <td>26.0</td>\n",
       "      <td>No</td>\n",
       "      <td>No</td>\n",
       "    </tr>\n",
       "    <tr>\n",
       "      <th>145459</th>\n",
       "      <td>2017-06-25</td>\n",
       "      <td>Uluru</td>\n",
       "      <td>14.9</td>\n",
       "      <td>NaN</td>\n",
       "      <td>0.0</td>\n",
       "      <td>NaN</td>\n",
       "      <td>NaN</td>\n",
       "      <td>NaN</td>\n",
       "      <td>NaN</td>\n",
       "      <td>ESE</td>\n",
       "      <td>ESE</td>\n",
       "      <td>17.0</td>\n",
       "      <td>17.0</td>\n",
       "      <td>62.0</td>\n",
       "      <td>36.0</td>\n",
       "      <td>1020.2</td>\n",
       "      <td>1017.9</td>\n",
       "      <td>8.0</td>\n",
       "      <td>8.0</td>\n",
       "      <td>15.0</td>\n",
       "      <td>20.9</td>\n",
       "      <td>No</td>\n",
       "      <td>NaN</td>\n",
       "    </tr>\n",
       "  </tbody>\n",
       "</table>\n",
       "<p>145460 rows × 23 columns</p>\n",
       "</div>"
      ],
      "text/plain": [
       "              Date Location  MinTemp  MaxTemp  Rainfall  Evaporation  \\\n",
       "0       2008-12-01   Albury     13.4     22.9       0.6          NaN   \n",
       "1       2008-12-02   Albury      7.4     25.1       0.0          NaN   \n",
       "2       2008-12-03   Albury     12.9     25.7       0.0          NaN   \n",
       "3       2008-12-04   Albury      9.2     28.0       0.0          NaN   \n",
       "4       2008-12-05   Albury     17.5     32.3       1.0          NaN   \n",
       "...            ...      ...      ...      ...       ...          ...   \n",
       "145455  2017-06-21    Uluru      2.8     23.4       0.0          NaN   \n",
       "145456  2017-06-22    Uluru      3.6     25.3       0.0          NaN   \n",
       "145457  2017-06-23    Uluru      5.4     26.9       0.0          NaN   \n",
       "145458  2017-06-24    Uluru      7.8     27.0       0.0          NaN   \n",
       "145459  2017-06-25    Uluru     14.9      NaN       0.0          NaN   \n",
       "\n",
       "        Sunshine WindGustDir  WindGustSpeed WindDir9am WindDir3pm  \\\n",
       "0            NaN           W           44.0          W        WNW   \n",
       "1            NaN         WNW           44.0        NNW        WSW   \n",
       "2            NaN         WSW           46.0          W        WSW   \n",
       "3            NaN          NE           24.0         SE          E   \n",
       "4            NaN           W           41.0        ENE         NW   \n",
       "...          ...         ...            ...        ...        ...   \n",
       "145455       NaN           E           31.0         SE        ENE   \n",
       "145456       NaN         NNW           22.0         SE          N   \n",
       "145457       NaN           N           37.0         SE        WNW   \n",
       "145458       NaN          SE           28.0        SSE          N   \n",
       "145459       NaN         NaN            NaN        ESE        ESE   \n",
       "\n",
       "        WindSpeed9am  WindSpeed3pm  Humidity9am  Humidity3pm  Pressure9am  \\\n",
       "0               20.0          24.0         71.0         22.0       1007.7   \n",
       "1                4.0          22.0         44.0         25.0       1010.6   \n",
       "2               19.0          26.0         38.0         30.0       1007.6   \n",
       "3               11.0           9.0         45.0         16.0       1017.6   \n",
       "4                7.0          20.0         82.0         33.0       1010.8   \n",
       "...              ...           ...          ...          ...          ...   \n",
       "145455          13.0          11.0         51.0         24.0       1024.6   \n",
       "145456          13.0           9.0         56.0         21.0       1023.5   \n",
       "145457           9.0           9.0         53.0         24.0       1021.0   \n",
       "145458          13.0           7.0         51.0         24.0       1019.4   \n",
       "145459          17.0          17.0         62.0         36.0       1020.2   \n",
       "\n",
       "        Pressure3pm  Cloud9am  Cloud3pm  Temp9am  Temp3pm RainToday  \\\n",
       "0            1007.1       8.0       NaN     16.9     21.8        No   \n",
       "1            1007.8       NaN       NaN     17.2     24.3        No   \n",
       "2            1008.7       NaN       2.0     21.0     23.2        No   \n",
       "3            1012.8       NaN       NaN     18.1     26.5        No   \n",
       "4            1006.0       7.0       8.0     17.8     29.7        No   \n",
       "...             ...       ...       ...      ...      ...       ...   \n",
       "145455       1020.3       NaN       NaN     10.1     22.4        No   \n",
       "145456       1019.1       NaN       NaN     10.9     24.5        No   \n",
       "145457       1016.8       NaN       NaN     12.5     26.1        No   \n",
       "145458       1016.5       3.0       2.0     15.1     26.0        No   \n",
       "145459       1017.9       8.0       8.0     15.0     20.9        No   \n",
       "\n",
       "       RainTomorrow  \n",
       "0                No  \n",
       "1                No  \n",
       "2                No  \n",
       "3                No  \n",
       "4                No  \n",
       "...             ...  \n",
       "145455           No  \n",
       "145456           No  \n",
       "145457           No  \n",
       "145458           No  \n",
       "145459          NaN  \n",
       "\n",
       "[145460 rows x 23 columns]"
      ]
     },
     "execution_count": 5,
     "metadata": {},
     "output_type": "execute_result"
    }
   ],
   "source": [
    "data"
   ]
  },
  {
   "cell_type": "markdown",
   "metadata": {},
   "source": [
    "checking the unique values in each features, This will help us decide if we are to categorise some faetures to categorical or numerical"
   ]
  },
  {
   "cell_type": "code",
   "execution_count": 6,
   "metadata": {},
   "outputs": [
    {
     "data": {
      "text/plain": [
       "Date             3436\n",
       "Location           49\n",
       "MinTemp           389\n",
       "MaxTemp           505\n",
       "Rainfall          681\n",
       "Evaporation       358\n",
       "Sunshine          145\n",
       "WindGustDir        16\n",
       "WindGustSpeed      67\n",
       "WindDir9am         16\n",
       "WindDir3pm         16\n",
       "WindSpeed9am       43\n",
       "WindSpeed3pm       44\n",
       "Humidity9am       101\n",
       "Humidity3pm       101\n",
       "Pressure9am       546\n",
       "Pressure3pm       549\n",
       "Cloud9am           10\n",
       "Cloud3pm           10\n",
       "Temp9am           441\n",
       "Temp3pm           502\n",
       "RainToday           2\n",
       "RainTomorrow        2\n",
       "dtype: int64"
      ]
     },
     "execution_count": 6,
     "metadata": {},
     "output_type": "execute_result"
    }
   ],
   "source": [
    "data.nunique()"
   ]
  },
  {
   "cell_type": "markdown",
   "metadata": {},
   "source": [
    "Discrete Variable are countable in finite amount of time, while numerical variable are too mcuh to count.\n",
    "\n",
    "we will try to separate of features here into \n",
    "* numerical \n",
    "* discrete\n",
    "* categorical\n",
    "* continous"
   ]
  },
  {
   "cell_type": "code",
   "execution_count": 7,
   "metadata": {},
   "outputs": [
    {
     "data": {
      "text/plain": [
       "array([21.8, 24.3, 23.2, 26.5, 29.7, 28.9, 24.6, 25.5, 30.2, 28.2, 28.8,\n",
       "       17. , 15.8, 19.8, 23.5, 26.2, 18.1, 21.5, 21. , 27.3, 31.6, 30.8,\n",
       "       29. , 31.2, 33. , 32.1, 26.1, 18.2, 22.7, 25.7, 22.1, 33.9, 34.4,\n",
       "       36.8, 38.4, 27.6, 26.6, 29.3, 30. , 33.2, 35.7, 41.5, 27.1, 25.8,\n",
       "       30.5, 37.7, 36.1, 33.1, 36.5, 36.2, 39.2, 40.1, 41.2, 42. , 41.9,\n",
       "       37.1, 35.2, 39.7, 41.6, 43.4, 38.5, 29.4, 24.9, 17.3, 28.5, 29.2,\n",
       "       29.5, 27. , 30.7, 32.7, 26.8, 29.8, 31.3, 33.4, 28.6, 33.6, 28.1,\n",
       "       21.9, 21.4, 22. , 29.6, 18.8, 23.8, 19.7, 18.3, 20.5, 23.9, 27.2,\n",
       "       32.6, 33.5, 31.4, 19.6, 27.7, 29.9, 30.9, 27.4, 20.3, 21.2, 20.9,\n",
       "       21.6, 25. , 24.4, 23.1, 18.9, 19.4, 22.9, 23.6, 21.3, 22.3, 22.6,\n",
       "       15.1, 14.5, 11.6,  9.4, 14. , 12.1, 16.1, 16.3, 19.1, 18.5, 18.4,\n",
       "       19.2, 20.2, 17.7, 18. , 14.6, 15.3, 15.9, 14.7, 18.7, 21.7, 20.8,\n",
       "       19.5, 17.4, 15.6, 16.7, 16.8, 13.4, 13. , 16.5, 10.2, 11.5, 11.4,\n",
       "        7.9,  9.7,  8.8, 15.5, 13.9, 15.4, 14.9, 16.4, 13.6, 15.2, 13.7,\n",
       "       11.3, 12.3, 13.1, 11.7, 12.6, 12. , 12.4, 14.3, 13.2, 10.1, 12.5,\n",
       "       12.8, 14.2, 11.2, 13.5, 17.6, 12.9, 10.8,  9.6,  7.3, 12.7, 13.3,\n",
       "       16.6, 11.1, 14.4, 16.2, 17.5, 10.7, 16. , 24. , 17.1, 20.7, 17.2,\n",
       "       20.6, 14.8, 10. , 15.7, 17.8, 19. , 14.1, 10.9, 19.3, 25.3, 25.4,\n",
       "       24.8, 23.4, 28.4, 30.3, 31.1, 32.8, 33.8, 34.9, 34.6, 31.7, 35.4,\n",
       "       39. , 36.4, 25.6, 32. , 25.2, 24.7, 28.7, 30.6, 26. , 32.5, 36.9,\n",
       "       30.4, 35.9, 37.5, 27.5, 34.1, 35.1, 28. , 31.8, 35.3, 38.6, 40.9,\n",
       "       41.1, 19.9, 36. , 24.1, 34.3, 39.1, 34.7, 34.8, 30.1, 32.9, 26.4,\n",
       "       24.2, 20.1, 21.1, 22.8, 31.5, 26.9, 29.1, 28.3, 25.1, 23. , 22.4,\n",
       "       27.9, 18.6, 16.9, 13.8, 15. ,  8.9, 11. , 11.8,  8.2,  9.1, 10.4,\n",
       "       12.2,  9.2,  8.7, 11.9, 22.5, 24.5, 36.7, 37.3, 38.8, 26.7,  8.6,\n",
       "       20.4,  9. , 10.3, 10.6,  8. ,  8.1, 10.5,  9.8,  9.5,  9.9, 17.9,\n",
       "        nan, 22.2, 23.3, 23.7, 26.3, 25.9, 35. , 34.2, 34.5, 32.4, 27.8,\n",
       "       20. ,  7. , 35.8, 39.3, 42.4, 40.7, 38.2, 40.6, 35.6, 34. , 36.3,\n",
       "       32.3,  9.3,  8.3, 31.9, 41.7, 38.9, 31. , 37.2, 40.8, 40.2, 38.3,\n",
       "        8.4,  8.5,  6.7, 32.2, 37. ,  7.6,  6.4,  7.7, 33.3, 39.5, 37.6,\n",
       "       42.3, 33.7, 35.5,  7.5,  7.4, 38. , 39.8, 37.8, 39.6, 40.3, 36.6,\n",
       "       42.2, 37.9, 43.7, 38.7, 41. , 43.5, 43.3, 38.1, 43. , 41.4, 40. ,\n",
       "       40.4, 37.4, 39.9, 43.2, 40.5, 44.8, 42.9, 42.6, 42.1, 42.7, 43.1,\n",
       "       39.4,  6.9, 44. , 45.2, 45.8, 41.3, 42.8, 46.7, 45.3, 44.1, 42.5,\n",
       "       43.8, 46.2, 45.9, 44.7, 44.9, 41.8,  6.8,  6. ,  6.6, 44.2, 43.9,\n",
       "        7.1,  7.8,  7.2,  5.7,  5.1,  6.2,  3.7,  6.5,  6.1,  4.3,  5.4,\n",
       "        5.3,  4.9,  5.6,  2.3,  5.5,  6.3,  5.9,  5.8,  3.4,  3.6, -1.9,\n",
       "       -1.3,  1.4,  4.4,  4.5,  2.6,  0.8,  4.8,  1.8,  2.4,  2.7,  4. ,\n",
       "        5. , -0.3, -2.9, -5.1, -0.4,  0.9,  2.1,  2.9,  1.2, -0.6,  1.9,\n",
       "        5.2, -0.7, -1. , -1.8, -0.1,  0.4, -1.6, -0.2,  1.6,  1.3, -1.2,\n",
       "        2. ,  2.8,  0.7, -0.9,  0.3, -1.1,  1.1,  1. ,  0. , -2.8, -1.4,\n",
       "        0.2, -3.1, -2.6,  3. ,  0.6,  4.6,  3.2,  4.2,  3.5,  3.8,  4.1,\n",
       "       -1.7, -1.5,  3.3,  2.2,  1.7, -2. , -2.2,  2.5, -2.3,  3.9,  3.1,\n",
       "        0.1, -3.7,  4.7,  1.5, -3.9, -0.5, -3.3, -2.7, -3.5, -2.1,  0.5,\n",
       "       -2.5, -3.2, -4.1, -3.4, -0.8, -3. , -4.4, -2.4, -4. , -4.2, -5.4,\n",
       "       -3.8, 44.4, 46.1, 45.4, 43.6, 44.5, 44.3, 45. ])"
      ]
     },
     "execution_count": 7,
     "metadata": {},
     "output_type": "execute_result"
    }
   ],
   "source": [
    "data['Temp3pm'].unique()"
   ]
  },
  {
   "cell_type": "code",
   "execution_count": 8,
   "metadata": {},
   "outputs": [],
   "source": [
    "numerical_feature = [features for features in data.columns if data[features].dtypes != 'O']\n",
    "discrete_feature = [features for features in numerical_feature if len(data[features].unique()) <= 25]\n",
    "continous_feature = [features for features in numerical_feature if features  not  in  discrete_feature]\n",
    "categorical_feature = [features for features in data.columns if features not in numerical_feature]"
   ]
  },
  {
   "cell_type": "markdown",
   "metadata": {},
   "source": [
    "so let check the data and see what we have got in there"
   ]
  },
  {
   "cell_type": "code",
   "execution_count": 9,
   "metadata": {},
   "outputs": [
    {
     "data": {
      "text/html": [
       "<div>\n",
       "<style scoped>\n",
       "    .dataframe tbody tr th:only-of-type {\n",
       "        vertical-align: middle;\n",
       "    }\n",
       "\n",
       "    .dataframe tbody tr th {\n",
       "        vertical-align: top;\n",
       "    }\n",
       "\n",
       "    .dataframe thead th {\n",
       "        text-align: right;\n",
       "    }\n",
       "</style>\n",
       "<table border=\"1\" class=\"dataframe\">\n",
       "  <thead>\n",
       "    <tr style=\"text-align: right;\">\n",
       "      <th></th>\n",
       "      <th>Date</th>\n",
       "      <th>Location</th>\n",
       "      <th>WindGustDir</th>\n",
       "      <th>WindDir9am</th>\n",
       "      <th>WindDir3pm</th>\n",
       "      <th>RainToday</th>\n",
       "      <th>RainTomorrow</th>\n",
       "    </tr>\n",
       "  </thead>\n",
       "  <tbody>\n",
       "    <tr>\n",
       "      <th>0</th>\n",
       "      <td>2008-12-01</td>\n",
       "      <td>Albury</td>\n",
       "      <td>W</td>\n",
       "      <td>W</td>\n",
       "      <td>WNW</td>\n",
       "      <td>No</td>\n",
       "      <td>No</td>\n",
       "    </tr>\n",
       "    <tr>\n",
       "      <th>1</th>\n",
       "      <td>2008-12-02</td>\n",
       "      <td>Albury</td>\n",
       "      <td>WNW</td>\n",
       "      <td>NNW</td>\n",
       "      <td>WSW</td>\n",
       "      <td>No</td>\n",
       "      <td>No</td>\n",
       "    </tr>\n",
       "    <tr>\n",
       "      <th>2</th>\n",
       "      <td>2008-12-03</td>\n",
       "      <td>Albury</td>\n",
       "      <td>WSW</td>\n",
       "      <td>W</td>\n",
       "      <td>WSW</td>\n",
       "      <td>No</td>\n",
       "      <td>No</td>\n",
       "    </tr>\n",
       "    <tr>\n",
       "      <th>3</th>\n",
       "      <td>2008-12-04</td>\n",
       "      <td>Albury</td>\n",
       "      <td>NE</td>\n",
       "      <td>SE</td>\n",
       "      <td>E</td>\n",
       "      <td>No</td>\n",
       "      <td>No</td>\n",
       "    </tr>\n",
       "    <tr>\n",
       "      <th>4</th>\n",
       "      <td>2008-12-05</td>\n",
       "      <td>Albury</td>\n",
       "      <td>W</td>\n",
       "      <td>ENE</td>\n",
       "      <td>NW</td>\n",
       "      <td>No</td>\n",
       "      <td>No</td>\n",
       "    </tr>\n",
       "  </tbody>\n",
       "</table>\n",
       "</div>"
      ],
      "text/plain": [
       "         Date Location WindGustDir WindDir9am WindDir3pm RainToday  \\\n",
       "0  2008-12-01   Albury           W          W        WNW        No   \n",
       "1  2008-12-02   Albury         WNW        NNW        WSW        No   \n",
       "2  2008-12-03   Albury         WSW          W        WSW        No   \n",
       "3  2008-12-04   Albury          NE         SE          E        No   \n",
       "4  2008-12-05   Albury           W        ENE         NW        No   \n",
       "\n",
       "  RainTomorrow  \n",
       "0           No  \n",
       "1           No  \n",
       "2           No  \n",
       "3           No  \n",
       "4           No  "
      ]
     },
     "execution_count": 9,
     "metadata": {},
     "output_type": "execute_result"
    }
   ],
   "source": [
    "# let check the categorical data \n",
    "data[categorical_feature].head()"
   ]
  },
  {
   "cell_type": "markdown",
   "metadata": {},
   "source": [
    "#### Note that we can convert the Rain today and rain tomorrow to Discrete data using Label-encoding which we will still do."
   ]
  },
  {
   "cell_type": "code",
   "execution_count": 10,
   "metadata": {},
   "outputs": [
    {
     "data": {
      "text/html": [
       "<div>\n",
       "<style scoped>\n",
       "    .dataframe tbody tr th:only-of-type {\n",
       "        vertical-align: middle;\n",
       "    }\n",
       "\n",
       "    .dataframe tbody tr th {\n",
       "        vertical-align: top;\n",
       "    }\n",
       "\n",
       "    .dataframe thead th {\n",
       "        text-align: right;\n",
       "    }\n",
       "</style>\n",
       "<table border=\"1\" class=\"dataframe\">\n",
       "  <thead>\n",
       "    <tr style=\"text-align: right;\">\n",
       "      <th></th>\n",
       "      <th>Cloud9am</th>\n",
       "      <th>Cloud3pm</th>\n",
       "    </tr>\n",
       "  </thead>\n",
       "  <tbody>\n",
       "    <tr>\n",
       "      <th>0</th>\n",
       "      <td>8.0</td>\n",
       "      <td>NaN</td>\n",
       "    </tr>\n",
       "    <tr>\n",
       "      <th>1</th>\n",
       "      <td>NaN</td>\n",
       "      <td>NaN</td>\n",
       "    </tr>\n",
       "    <tr>\n",
       "      <th>2</th>\n",
       "      <td>NaN</td>\n",
       "      <td>2.0</td>\n",
       "    </tr>\n",
       "    <tr>\n",
       "      <th>3</th>\n",
       "      <td>NaN</td>\n",
       "      <td>NaN</td>\n",
       "    </tr>\n",
       "    <tr>\n",
       "      <th>4</th>\n",
       "      <td>7.0</td>\n",
       "      <td>8.0</td>\n",
       "    </tr>\n",
       "  </tbody>\n",
       "</table>\n",
       "</div>"
      ],
      "text/plain": [
       "   Cloud9am  Cloud3pm\n",
       "0       8.0       NaN\n",
       "1       NaN       NaN\n",
       "2       NaN       2.0\n",
       "3       NaN       NaN\n",
       "4       7.0       8.0"
      ]
     },
     "execution_count": 10,
     "metadata": {},
     "output_type": "execute_result"
    }
   ],
   "source": [
    "# let check for Discrete data\n",
    "data[discrete_feature].head()"
   ]
  },
  {
   "cell_type": "code",
   "execution_count": 11,
   "metadata": {},
   "outputs": [
    {
     "data": {
      "text/html": [
       "<div>\n",
       "<style scoped>\n",
       "    .dataframe tbody tr th:only-of-type {\n",
       "        vertical-align: middle;\n",
       "    }\n",
       "\n",
       "    .dataframe tbody tr th {\n",
       "        vertical-align: top;\n",
       "    }\n",
       "\n",
       "    .dataframe thead th {\n",
       "        text-align: right;\n",
       "    }\n",
       "</style>\n",
       "<table border=\"1\" class=\"dataframe\">\n",
       "  <thead>\n",
       "    <tr style=\"text-align: right;\">\n",
       "      <th></th>\n",
       "      <th>MinTemp</th>\n",
       "      <th>MaxTemp</th>\n",
       "      <th>Rainfall</th>\n",
       "      <th>Evaporation</th>\n",
       "      <th>Sunshine</th>\n",
       "      <th>WindGustSpeed</th>\n",
       "      <th>WindSpeed9am</th>\n",
       "      <th>WindSpeed3pm</th>\n",
       "      <th>Humidity9am</th>\n",
       "      <th>Humidity3pm</th>\n",
       "      <th>Pressure9am</th>\n",
       "      <th>Pressure3pm</th>\n",
       "      <th>Temp9am</th>\n",
       "      <th>Temp3pm</th>\n",
       "    </tr>\n",
       "  </thead>\n",
       "  <tbody>\n",
       "    <tr>\n",
       "      <th>0</th>\n",
       "      <td>13.4</td>\n",
       "      <td>22.9</td>\n",
       "      <td>0.6</td>\n",
       "      <td>NaN</td>\n",
       "      <td>NaN</td>\n",
       "      <td>44.0</td>\n",
       "      <td>20.0</td>\n",
       "      <td>24.0</td>\n",
       "      <td>71.0</td>\n",
       "      <td>22.0</td>\n",
       "      <td>1007.7</td>\n",
       "      <td>1007.1</td>\n",
       "      <td>16.9</td>\n",
       "      <td>21.8</td>\n",
       "    </tr>\n",
       "    <tr>\n",
       "      <th>1</th>\n",
       "      <td>7.4</td>\n",
       "      <td>25.1</td>\n",
       "      <td>0.0</td>\n",
       "      <td>NaN</td>\n",
       "      <td>NaN</td>\n",
       "      <td>44.0</td>\n",
       "      <td>4.0</td>\n",
       "      <td>22.0</td>\n",
       "      <td>44.0</td>\n",
       "      <td>25.0</td>\n",
       "      <td>1010.6</td>\n",
       "      <td>1007.8</td>\n",
       "      <td>17.2</td>\n",
       "      <td>24.3</td>\n",
       "    </tr>\n",
       "    <tr>\n",
       "      <th>2</th>\n",
       "      <td>12.9</td>\n",
       "      <td>25.7</td>\n",
       "      <td>0.0</td>\n",
       "      <td>NaN</td>\n",
       "      <td>NaN</td>\n",
       "      <td>46.0</td>\n",
       "      <td>19.0</td>\n",
       "      <td>26.0</td>\n",
       "      <td>38.0</td>\n",
       "      <td>30.0</td>\n",
       "      <td>1007.6</td>\n",
       "      <td>1008.7</td>\n",
       "      <td>21.0</td>\n",
       "      <td>23.2</td>\n",
       "    </tr>\n",
       "    <tr>\n",
       "      <th>3</th>\n",
       "      <td>9.2</td>\n",
       "      <td>28.0</td>\n",
       "      <td>0.0</td>\n",
       "      <td>NaN</td>\n",
       "      <td>NaN</td>\n",
       "      <td>24.0</td>\n",
       "      <td>11.0</td>\n",
       "      <td>9.0</td>\n",
       "      <td>45.0</td>\n",
       "      <td>16.0</td>\n",
       "      <td>1017.6</td>\n",
       "      <td>1012.8</td>\n",
       "      <td>18.1</td>\n",
       "      <td>26.5</td>\n",
       "    </tr>\n",
       "    <tr>\n",
       "      <th>4</th>\n",
       "      <td>17.5</td>\n",
       "      <td>32.3</td>\n",
       "      <td>1.0</td>\n",
       "      <td>NaN</td>\n",
       "      <td>NaN</td>\n",
       "      <td>41.0</td>\n",
       "      <td>7.0</td>\n",
       "      <td>20.0</td>\n",
       "      <td>82.0</td>\n",
       "      <td>33.0</td>\n",
       "      <td>1010.8</td>\n",
       "      <td>1006.0</td>\n",
       "      <td>17.8</td>\n",
       "      <td>29.7</td>\n",
       "    </tr>\n",
       "  </tbody>\n",
       "</table>\n",
       "</div>"
      ],
      "text/plain": [
       "   MinTemp  MaxTemp  Rainfall  Evaporation  Sunshine  WindGustSpeed  \\\n",
       "0     13.4     22.9       0.6          NaN       NaN           44.0   \n",
       "1      7.4     25.1       0.0          NaN       NaN           44.0   \n",
       "2     12.9     25.7       0.0          NaN       NaN           46.0   \n",
       "3      9.2     28.0       0.0          NaN       NaN           24.0   \n",
       "4     17.5     32.3       1.0          NaN       NaN           41.0   \n",
       "\n",
       "   WindSpeed9am  WindSpeed3pm  Humidity9am  Humidity3pm  Pressure9am  \\\n",
       "0          20.0          24.0         71.0         22.0       1007.7   \n",
       "1           4.0          22.0         44.0         25.0       1010.6   \n",
       "2          19.0          26.0         38.0         30.0       1007.6   \n",
       "3          11.0           9.0         45.0         16.0       1017.6   \n",
       "4           7.0          20.0         82.0         33.0       1010.8   \n",
       "\n",
       "   Pressure3pm  Temp9am  Temp3pm  \n",
       "0       1007.1     16.9     21.8  \n",
       "1       1007.8     17.2     24.3  \n",
       "2       1008.7     21.0     23.2  \n",
       "3       1012.8     18.1     26.5  \n",
       "4       1006.0     17.8     29.7  "
      ]
     },
     "execution_count": 11,
     "metadata": {},
     "output_type": "execute_result"
    }
   ],
   "source": [
    "# let check for continous data\n",
    "data[continous_feature].head()"
   ]
  },
  {
   "cell_type": "markdown",
   "metadata": {},
   "source": [
    "so we have been able to go through the data and we have seen the content of the data separated, next we will need to check for the null values because we could see that we have null values from the discrete features which may like affect our model..."
   ]
  },
  {
   "cell_type": "code",
   "execution_count": 12,
   "metadata": {},
   "outputs": [
    {
     "data": {
      "text/plain": [
       "Date                 0\n",
       "Location             0\n",
       "MinTemp           1485\n",
       "MaxTemp           1261\n",
       "Rainfall          3261\n",
       "Evaporation      62790\n",
       "Sunshine         69835\n",
       "WindGustDir      10326\n",
       "WindGustSpeed    10263\n",
       "WindDir9am       10566\n",
       "WindDir3pm        4228\n",
       "WindSpeed9am      1767\n",
       "WindSpeed3pm      3062\n",
       "Humidity9am       2654\n",
       "Humidity3pm       4507\n",
       "Pressure9am      15065\n",
       "Pressure3pm      15028\n",
       "Cloud9am         55888\n",
       "Cloud3pm         59358\n",
       "Temp9am           1767\n",
       "Temp3pm           3609\n",
       "RainToday         3261\n",
       "RainTomorrow      3267\n",
       "dtype: int64"
      ]
     },
     "execution_count": 12,
     "metadata": {},
     "output_type": "execute_result"
    }
   ],
   "source": [
    "# so checking the total missing values for each features \n",
    "data.isna().sum()"
   ]
  },
  {
   "cell_type": "code",
   "execution_count": 13,
   "metadata": {},
   "outputs": [
    {
     "data": {
      "text/plain": [
       "'length of data and feature with max missing values are respectively (145460, 69835)'"
      ]
     },
     "execution_count": 13,
     "metadata": {},
     "output_type": "execute_result"
    }
   ],
   "source": [
    "# checking if we can drop a feature if it has all it values as 'NAN'\n",
    "f'length of data and feature with max missing values are respectively {(len(data),max(list(data.isna().sum())))}'"
   ]
  },
  {
   "cell_type": "code",
   "execution_count": 14,
   "metadata": {},
   "outputs": [
    {
     "data": {
      "text/plain": [
       "Date              0.000000\n",
       "Location          0.000000\n",
       "MinTemp           1.020899\n",
       "MaxTemp           0.866905\n",
       "Rainfall          2.241853\n",
       "Evaporation      43.166506\n",
       "Sunshine         48.009762\n",
       "WindGustDir       7.098859\n",
       "WindGustSpeed     7.055548\n",
       "WindDir9am        7.263853\n",
       "WindDir3pm        2.906641\n",
       "WindSpeed9am      1.214767\n",
       "WindSpeed3pm      2.105046\n",
       "Humidity9am       1.824557\n",
       "Humidity3pm       3.098446\n",
       "Pressure9am      10.356799\n",
       "Pressure3pm      10.331363\n",
       "Cloud9am         38.421559\n",
       "Cloud3pm         40.807095\n",
       "Temp9am           1.214767\n",
       "Temp3pm           2.481094\n",
       "RainToday         2.241853\n",
       "RainTomorrow      2.245978\n",
       "dtype: float64"
      ]
     },
     "execution_count": 14,
     "metadata": {},
     "output_type": "execute_result"
    }
   ],
   "source": [
    "# we can decide to check the feature having the highest to the lowest percentage of null values\n",
    "# let see...\n",
    "data.isna().sum()*100/len(data)"
   ]
  },
  {
   "cell_type": "markdown",
   "metadata": {},
   "source": [
    "so next we will create a function that will tell us if a feature is categorical, discrete or continous.\n",
    "\n",
    "#### Teacher mec let see the code in action....."
   ]
  },
  {
   "cell_type": "code",
   "execution_count": 15,
   "metadata": {},
   "outputs": [],
   "source": [
    "def check_feature_type(feature_name):\n",
    "    if feature_name in categorical_feature:\n",
    "        print(f'{feature_name} is a Categorical data')\n",
    "    elif feature_name  in discrete_feature:\n",
    "        print(f'{feature_name} is a Discrete data')\n",
    "    else:\n",
    "        print(f'{feature_name} is a continous data')"
   ]
  },
  {
   "cell_type": "code",
   "execution_count": 16,
   "metadata": {},
   "outputs": [
    {
     "name": "stdout",
     "output_type": "stream",
     "text": [
      "Humidity9am is a continous data\n"
     ]
    }
   ],
   "source": [
    "# let test our function here, okay let go mec....\n",
    "check_feature_type('Humidity9am')"
   ]
  },
  {
   "cell_type": "code",
   "execution_count": 17,
   "metadata": {},
   "outputs": [],
   "source": [
    "# wow good job mec... let proceed \n",
    "# as we can observe, we can see that some of our features have null values in it's data\n",
    "# let find something to do about it.."
   ]
  },
  {
   "cell_type": "markdown",
   "metadata": {},
   "source": [
    "#### We will do Random Sample Imputation for the features which are having most percentage of null values. "
   ]
  },
  {
   "cell_type": "markdown",
   "metadata": {},
   "source": [
    "## For the section below, we will create another function, let call it Random_Sample_Inputation\n"
   ]
  },
  {
   "cell_type": "markdown",
   "metadata": {},
   "source": [
    "#### The following steps is a very tedious step... don't be scared.\n",
    "we want to assign variable values from the same features to features of the data. \n",
    "\n",
    "steps:\n",
    "* we will first drop the NAN values.\n",
    "\n",
    "* getting the number of NAN values.\n",
    "\n",
    "* getting values to replace NAN from left values after dropping NAN.\n",
    "\n",
    "* we will try to generate the index number of the NAN values.\n",
    "\n",
    "* we will tend try to add the index of the random values to the index of the drop NAN values.\n",
    "\n",
    "* we will then assign the index and the values of the random data series to the data Dataframe.\n",
    "    "
   ]
  },
  {
   "cell_type": "markdown",
   "metadata": {},
   "source": [
    "ohhhh no this is a lot to take in but... let dive it and get things done"
   ]
  },
  {
   "cell_type": "code",
   "execution_count": 18,
   "metadata": {},
   "outputs": [],
   "source": [
    "# step 1: dropping the NAN value and assign it to a variable\n",
    "def random_sample_inputation(data,feature):\n",
    "    # step 1: dropping the NAN value and assign it to a variable\n",
    "    dropped_nan_value = data[feature].dropna() \n",
    "    \n",
    "    # step 2: getting the length of NAN values \n",
    "    len_of_NAN_value = data[feature].isnull().sum()\n",
    "    \n",
    "    # step 3: getting values to replace NAN from left values after dropping NAN.\n",
    "    nan_to_value = dropped_nan_value.sample(len_of_NAN_value,random_state=0)\n",
    "    \n",
    "    # step 4: we will set the index correctly to the index of the dropped index\n",
    "    nan_to_value.index = data[data[feature].isnull()].index\n",
    "    \n",
    "    # step 5: asssigning the corrected index of the null values to the dataframe\n",
    "    data.loc[data[feature].isnull(),feature] = nan_to_value\n",
    "    # or we can use 'data.loc[data[data[feature].isnull()].index,feature]'\n",
    "    return data[feature]\n",
    "    "
   ]
  },
  {
   "cell_type": "markdown",
   "metadata": {},
   "source": [
    "Tada...  we are done with the function, so let test the functionality of the function"
   ]
  },
  {
   "cell_type": "code",
   "execution_count": 19,
   "metadata": {},
   "outputs": [
    {
     "name": "stdout",
     "output_type": "stream",
     "text": [
      "0         0.0\n",
      "1         1.0\n",
      "2         2.0\n",
      "3         5.0\n",
      "4         8.0\n",
      "         ... \n",
      "145455    1.0\n",
      "145456    5.0\n",
      "145457    1.0\n",
      "145458    2.0\n",
      "145459    8.0\n",
      "Name: Cloud3pm, Length: 145460, dtype: float64\n"
     ]
    }
   ],
   "source": [
    "print(random_sample_inputation(data,'Cloud3pm'))"
   ]
  },
  {
   "cell_type": "markdown",
   "metadata": {},
   "source": [
    "\n",
    "##### WOW  it worked...."
   ]
  },
  {
   "cell_type": "markdown",
   "metadata": {},
   "source": [
    "Up next, we will use this function with features with high percentage of missing value, i think we should automate this... okay let see"
   ]
  },
  {
   "cell_type": "markdown",
   "metadata": {},
   "source": [
    "Note: cloud3pm has percentage of 38.4, we have alread use the function on it, so it has no value as NAN again, we\n",
    "we will use it other with high percentage of NAN"
   ]
  },
  {
   "cell_type": "code",
   "execution_count": 20,
   "metadata": {},
   "outputs": [],
   "source": [
    "high_percent_nan = ['Evaporation','Sunshine','Cloud3pm','Cloud9am']\n",
    "for feature in high_percent_nan:\n",
    "    random_sample_inputation(data,feature)\n",
    "    \n",
    "# let see if it has effect by checking the percentage of NAN values in a feature"
   ]
  },
  {
   "cell_type": "code",
   "execution_count": 21,
   "metadata": {},
   "outputs": [
    {
     "data": {
      "text/plain": [
       "Date              0.000000\n",
       "Location          0.000000\n",
       "MinTemp           1.020899\n",
       "MaxTemp           0.866905\n",
       "Rainfall          2.241853\n",
       "Evaporation       0.000000\n",
       "Sunshine          0.000000\n",
       "WindGustDir       7.098859\n",
       "WindGustSpeed     7.055548\n",
       "WindDir9am        7.263853\n",
       "WindDir3pm        2.906641\n",
       "WindSpeed9am      1.214767\n",
       "WindSpeed3pm      2.105046\n",
       "Humidity9am       1.824557\n",
       "Humidity3pm       3.098446\n",
       "Pressure9am      10.356799\n",
       "Pressure3pm      10.331363\n",
       "Cloud9am          0.000000\n",
       "Cloud3pm          0.000000\n",
       "Temp9am           1.214767\n",
       "Temp3pm           2.481094\n",
       "RainToday         2.241853\n",
       "RainTomorrow      2.245978\n",
       "dtype: float64"
      ]
     },
     "execution_count": 21,
     "metadata": {},
     "output_type": "execute_result"
    }
   ],
   "source": [
    "data.isna().sum()*100/len(data)"
   ]
  },
  {
   "cell_type": "markdown",
   "metadata": {},
   "source": [
    "wow there you go.... we now the percentage missing values of the features we do random_sample_inputation for to be 0 "
   ]
  },
  {
   "cell_type": "markdown",
   "metadata": {},
   "source": [
    "\n",
    "\n",
    "\n",
    "So for the continous feature, we will use mean inputation, note we can not run mean or random sample for categorical features this is because it is categorical"
   ]
  },
  {
   "cell_type": "code",
   "execution_count": 22,
   "metadata": {},
   "outputs": [],
   "source": [
    "# defing function for mean inputation\n",
    "def mean_inputation(data,feature):\n",
    "    mean_value = data[feature].mean()\n",
    "    print('The mean value is {}'.format(mean_value))\n",
    "    data[feature] = data[feature].fillna(mean_value)\n",
    "    return data[feature]\n",
    "    \n",
    "# let test of function"
   ]
  },
  {
   "cell_type": "code",
   "execution_count": 23,
   "metadata": {},
   "outputs": [
    {
     "name": "stdout",
     "output_type": "stream",
     "text": [
      "The mean value is 23.221348275647003\n",
      "0         22.900000\n",
      "1         25.100000\n",
      "2         25.700000\n",
      "3         28.000000\n",
      "4         32.300000\n",
      "            ...    \n",
      "145455    23.400000\n",
      "145456    25.300000\n",
      "145457    26.900000\n",
      "145458    27.000000\n",
      "145459    23.221348\n",
      "Name: MaxTemp, Length: 145460, dtype: float64\n"
     ]
    }
   ],
   "source": [
    "print(mean_inputation(data,'MaxTemp'))"
   ]
  },
  {
   "cell_type": "markdown",
   "metadata": {},
   "source": [
    "so setting the continous data with low percentage of NAN value "
   ]
  },
  {
   "cell_type": "code",
   "execution_count": 24,
   "metadata": {},
   "outputs": [
    {
     "name": "stdout",
     "output_type": "stream",
     "text": [
      "The mean value is 12.19403438096871\n",
      "The mean value is 23.22134827564668\n",
      "The mean value is 2.360918149917032\n",
      "The mean value is 40.03523007167319\n",
      "The mean value is 14.043425914971502\n",
      "The mean value is 18.662656778887342\n",
      "The mean value is 68.88083133761887\n",
      "The mean value is 51.5391158755046\n",
      "The mean value is 1017.6499397983179\n",
      "The mean value is 1015.2558888309775\n",
      "The mean value is 16.990631415587448\n",
      "The mean value is 21.683390318009447\n"
     ]
    }
   ],
   "source": [
    "\n",
    "for feature in continous_feature:\n",
    "    if feature in high_percent_nan:\n",
    "        continue\n",
    "    else:\n",
    "        mean_inputation(data,feature)\n",
    "\n",
    "# we will check if the process above has been effected"
   ]
  },
  {
   "cell_type": "markdown",
   "metadata": {},
   "source": [
    "#### nice work mec.... that's is a really good job"
   ]
  },
  {
   "cell_type": "code",
   "execution_count": 25,
   "metadata": {},
   "outputs": [
    {
     "data": {
      "text/plain": [
       "Date             0.000000\n",
       "Location         0.000000\n",
       "MinTemp          0.000000\n",
       "MaxTemp          0.000000\n",
       "Rainfall         0.000000\n",
       "Evaporation      0.000000\n",
       "Sunshine         0.000000\n",
       "WindGustDir      7.098859\n",
       "WindGustSpeed    0.000000\n",
       "WindDir9am       7.263853\n",
       "WindDir3pm       2.906641\n",
       "WindSpeed9am     0.000000\n",
       "WindSpeed3pm     0.000000\n",
       "Humidity9am      0.000000\n",
       "Humidity3pm      0.000000\n",
       "Pressure9am      0.000000\n",
       "Pressure3pm      0.000000\n",
       "Cloud9am         0.000000\n",
       "Cloud3pm         0.000000\n",
       "Temp9am          0.000000\n",
       "Temp3pm          0.000000\n",
       "RainToday        2.241853\n",
       "RainTomorrow     2.245978\n",
       "dtype: float64"
      ]
     },
     "execution_count": 25,
     "metadata": {},
     "output_type": "execute_result"
    }
   ],
   "source": [
    "data.isna().sum()*100/len(data)"
   ]
  },
  {
   "cell_type": "markdown",
   "metadata": {},
   "source": [
    "### let try to plot an heat map to see what we are doing.."
   ]
  },
  {
   "cell_type": "code",
   "execution_count": 26,
   "metadata": {},
   "outputs": [
    {
     "data": {
      "text/plain": [
       "<AxesSubplot:>"
      ]
     },
     "execution_count": 26,
     "metadata": {},
     "output_type": "execute_result"
    },
    {
     "data": {
      "image/png": "[encoded data removed]",
      "text/plain": [
       "<Figure size 864x720 with 2 Axes>"
      ]
     },
     "metadata": {
      "needs_background": "light"
     },
     "output_type": "display_data"
    }
   ],
   "source": [
    "plt.figure(figsize=(12,10))\n",
    "corr = data.corr(method='spearman')\n",
    "sn.heatmap(corr,annot=True)\n"
   ]
  },
  {
   "cell_type": "markdown",
   "metadata": {},
   "source": [
    "#### let visualize our continous features"
   ]
  },
  {
   "cell_type": "code",
   "execution_count": 27,
   "metadata": {},
   "outputs": [
    {
     "data": {
      "text/plain": [
       "14"
      ]
     },
     "execution_count": 27,
     "metadata": {},
     "output_type": "execute_result"
    }
   ],
   "source": [
    "len(continous_feature)"
   ]
  },
  {
   "cell_type": "markdown",
   "metadata": {},
   "source": [
    "let check the distribution using hisplot"
   ]
  },
  {
   "cell_type": "code",
   "execution_count": 28,
   "metadata": {},
   "outputs": [],
   "source": [
    "\n",
    "# for  feature in continous_feature:\n",
    "#     sn.histplot(data[feature],kde=True)\n",
    "#     plt.xlabel(feature)\n",
    "#     plt.ylabel('count')\n",
    "#     plt.title(feature)\n",
    "#     plt.figure(figsize=(15,15))\n",
    "#     plt.show()"
   ]
  },
  {
   "cell_type": "markdown",
   "metadata": {},
   "source": [
    "let check visualize it again using boxplot"
   ]
  },
  {
   "cell_type": "code",
   "execution_count": 29,
   "metadata": {},
   "outputs": [],
   "source": [
    "# for  feature in continous_feature:\n",
    "#     sn.boxplot(data[feature])\n",
    "#     plt.xlabel(feature)\n",
    "#     plt.ylabel('count')\n",
    "#     plt.title(feature)\n",
    "#     plt.figure(figsize=(15,15))\n",
    "#     plt.show()"
   ]
  },
  {
   "cell_type": "markdown",
   "metadata": {},
   "source": [
    "### Upnext we match into feature Engineering :)"
   ]
  },
  {
   "cell_type": "markdown",
   "metadata": {},
   "source": [
    "If you can remember, i once said that the feature ('RainToday' and 'RainTomorrow')will be encoded,this is will convert it from Categorical to Discrete values.\n",
    "we can either use label encoding or one-hot encoding, this is because the feature is a binary feature, but when doing the one-hot encoding we will need to set drop_first parameter to True, this will prevent if from creating multi features of the data...\n",
    "\n",
    "\n",
    "\n",
    "\n",
    "teacher mec..... enough talk, let dive \n"
   ]
  },
  {
   "cell_type": "code",
   "execution_count": 30,
   "metadata": {},
   "outputs": [],
   "source": [
    "data['RainToday'] = pd.get_dummies(data['RainToday'],drop_first=True)\n",
    "\n",
    "data['RainTomorrow'] = pd.get_dummies(data['RainTomorrow'],drop_first=True)"
   ]
  },
  {
   "cell_type": "code",
   "execution_count": 31,
   "metadata": {},
   "outputs": [
    {
     "data": {
      "text/plain": [
       "Date             0.000000\n",
       "Location         0.000000\n",
       "MinTemp          0.000000\n",
       "MaxTemp          0.000000\n",
       "Rainfall         0.000000\n",
       "Evaporation      0.000000\n",
       "Sunshine         0.000000\n",
       "WindGustDir      7.098859\n",
       "WindGustSpeed    0.000000\n",
       "WindDir9am       7.263853\n",
       "WindDir3pm       2.906641\n",
       "WindSpeed9am     0.000000\n",
       "WindSpeed3pm     0.000000\n",
       "Humidity9am      0.000000\n",
       "Humidity3pm      0.000000\n",
       "Pressure9am      0.000000\n",
       "Pressure3pm      0.000000\n",
       "Cloud9am         0.000000\n",
       "Cloud3pm         0.000000\n",
       "Temp9am          0.000000\n",
       "Temp3pm          0.000000\n",
       "RainToday        0.000000\n",
       "RainTomorrow     0.000000\n",
       "dtype: float64"
      ]
     },
     "execution_count": 31,
     "metadata": {},
     "output_type": "execute_result"
    }
   ],
   "source": [
    "data.isna().sum()*100/len(data)"
   ]
  },
  {
   "cell_type": "code",
   "execution_count": 32,
   "metadata": {},
   "outputs": [],
   "source": [
    "# LABEL ENCODING"
   ]
  },
  {
   "cell_type": "code",
   "execution_count": 33,
   "metadata": {},
   "outputs": [
    {
     "data": {
      "text/html": [
       "<div>\n",
       "<style scoped>\n",
       "    .dataframe tbody tr th:only-of-type {\n",
       "        vertical-align: middle;\n",
       "    }\n",
       "\n",
       "    .dataframe tbody tr th {\n",
       "        vertical-align: top;\n",
       "    }\n",
       "\n",
       "    .dataframe thead th {\n",
       "        text-align: right;\n",
       "    }\n",
       "</style>\n",
       "<table border=\"1\" class=\"dataframe\">\n",
       "  <thead>\n",
       "    <tr style=\"text-align: right;\">\n",
       "      <th></th>\n",
       "      <th>Date</th>\n",
       "      <th>Location</th>\n",
       "      <th>WindGustDir</th>\n",
       "      <th>WindDir9am</th>\n",
       "      <th>WindDir3pm</th>\n",
       "      <th>RainToday</th>\n",
       "      <th>RainTomorrow</th>\n",
       "    </tr>\n",
       "  </thead>\n",
       "  <tbody>\n",
       "    <tr>\n",
       "      <th>0</th>\n",
       "      <td>2008-12-01</td>\n",
       "      <td>Albury</td>\n",
       "      <td>W</td>\n",
       "      <td>W</td>\n",
       "      <td>WNW</td>\n",
       "      <td>0</td>\n",
       "      <td>0</td>\n",
       "    </tr>\n",
       "    <tr>\n",
       "      <th>1</th>\n",
       "      <td>2008-12-02</td>\n",
       "      <td>Albury</td>\n",
       "      <td>WNW</td>\n",
       "      <td>NNW</td>\n",
       "      <td>WSW</td>\n",
       "      <td>0</td>\n",
       "      <td>0</td>\n",
       "    </tr>\n",
       "    <tr>\n",
       "      <th>2</th>\n",
       "      <td>2008-12-03</td>\n",
       "      <td>Albury</td>\n",
       "      <td>WSW</td>\n",
       "      <td>W</td>\n",
       "      <td>WSW</td>\n",
       "      <td>0</td>\n",
       "      <td>0</td>\n",
       "    </tr>\n",
       "    <tr>\n",
       "      <th>3</th>\n",
       "      <td>2008-12-04</td>\n",
       "      <td>Albury</td>\n",
       "      <td>NE</td>\n",
       "      <td>SE</td>\n",
       "      <td>E</td>\n",
       "      <td>0</td>\n",
       "      <td>0</td>\n",
       "    </tr>\n",
       "    <tr>\n",
       "      <th>4</th>\n",
       "      <td>2008-12-05</td>\n",
       "      <td>Albury</td>\n",
       "      <td>W</td>\n",
       "      <td>ENE</td>\n",
       "      <td>NW</td>\n",
       "      <td>0</td>\n",
       "      <td>0</td>\n",
       "    </tr>\n",
       "  </tbody>\n",
       "</table>\n",
       "</div>"
      ],
      "text/plain": [
       "         Date Location WindGustDir WindDir9am WindDir3pm  RainToday  \\\n",
       "0  2008-12-01   Albury           W          W        WNW          0   \n",
       "1  2008-12-02   Albury         WNW        NNW        WSW          0   \n",
       "2  2008-12-03   Albury         WSW          W        WSW          0   \n",
       "3  2008-12-04   Albury          NE         SE          E          0   \n",
       "4  2008-12-05   Albury           W        ENE         NW          0   \n",
       "\n",
       "   RainTomorrow  \n",
       "0             0  \n",
       "1             0  \n",
       "2             0  \n",
       "3             0  \n",
       "4             0  "
      ]
     },
     "execution_count": 33,
     "metadata": {},
     "output_type": "execute_result"
    }
   ],
   "source": [
    "data[categorical_feature].head()"
   ]
  },
  {
   "cell_type": "markdown",
   "metadata": {},
   "source": [
    "what we will do next is to try to generate unique values and map it with a numberical value to make it Discrete values."
   ]
  },
  {
   "cell_type": "code",
   "execution_count": 34,
   "metadata": {},
   "outputs": [
    {
     "name": "stdout",
     "output_type": "stream",
     "text": [
      "Date Index(['2007-11-01', '2007-12-15', '2008-02-03', '2008-01-31', '2008-01-30',\n",
      "       '2008-01-19', '2008-01-18', '2008-01-16', '2008-01-12', '2007-11-30',\n",
      "       ...\n",
      "       '2008-05-08', '2008-05-09', '2008-01-03', '2008-01-02', '2008-05-10',\n",
      "       '2008-05-11', '2008-05-12', '2008-05-13', '2008-05-14', '2007-12-25'],\n",
      "      dtype='object', name='Date', length=3436)\n",
      "Location Index(['Portland', 'Walpole', 'Cairns', 'Dartmoor', 'NorfolkIsland',\n",
      "       'MountGambier', 'Albany', 'Witchcliffe', 'CoffsHarbour', 'MountGinini',\n",
      "       'NorahHead', 'Darwin', 'Sydney', 'SydneyAirport', 'Ballarat',\n",
      "       'GoldCoast', 'Watsonia', 'Newcastle', 'Hobart', 'Wollongong',\n",
      "       'Williamtown', 'Launceston', 'Brisbane', 'MelbourneAirport', 'Adelaide',\n",
      "       'Sale', 'Albury', 'Perth', 'Melbourne', 'Nuriootpa', 'Penrith',\n",
      "       'BadgerysCreek', 'PerthAirport', 'Tuggeranong', 'Richmond', 'Bendigo',\n",
      "       'Canberra', 'WaggaWagga', 'Townsville', 'Katherine', 'PearceRAAF',\n",
      "       'SalmonGums', 'Nhil', 'Moree', 'Cobar', 'Mildura', 'AliceSprings',\n",
      "       'Uluru', 'Woomera'],\n",
      "      dtype='object', name='Location')\n",
      "WindGustDir Index(['NNW', 'NW', 'WNW', 'N', 'W', 'WSW', 'NNE', 'S', 'SSW', 'SW', 'SSE',\n",
      "       'NE', 'SE', 'ESE', 'ENE', 'E'],\n",
      "      dtype='object', name='WindGustDir')\n",
      "WindDir9am Index(['NNW', 'N', 'NW', 'NNE', 'WNW', 'W', 'WSW', 'SW', 'SSW', 'NE', 'S',\n",
      "       'SSE', 'ENE', 'SE', 'ESE', 'E'],\n",
      "      dtype='object', name='WindDir9am')\n",
      "WindDir3pm Index(['NW', 'NNW', 'N', 'WNW', 'W', 'NNE', 'WSW', 'SSW', 'S', 'SW', 'SE',\n",
      "       'NE', 'SSE', 'ENE', 'E', 'ESE'],\n",
      "      dtype='object', name='WindDir3pm')\n",
      "RainToday UInt64Index([1, 0], dtype='uint64', name='RainToday')\n",
      "RainTomorrow UInt64Index([1, 0], dtype='uint64', name='RainTomorrow')\n"
     ]
    }
   ],
   "source": [
    "for feature in categorical_feature:\n",
    "    print(feature,data.groupby([feature])['RainTomorrow'].mean().sort_values(ascending=False).index)\n",
    "\n"
   ]
  },
  {
   "cell_type": "code",
   "execution_count": 35,
   "metadata": {},
   "outputs": [],
   "source": [
    "uni_val = ['NNW', 'NW', 'WNW', 'N', 'W', 'WSW', 'NNE', 'S', 'SSW', 'SW', 'SSE',\n",
    "       'NE', 'SE', 'ESE', 'ENE', 'E']\n",
    "number_range = list(range(0,len(uni_val)))\n",
    "\n",
    "WindGustDir = dict(zip(['NNW', 'NW', 'WNW', 'N', 'W', 'WSW', 'NNE', 'S', 'SSW', 'SW', 'SSE',\n",
    "       'NE', 'SE', 'ESE', 'ENE', 'E'],number_range))\n",
    "\n",
    "\n",
    "WindDir9am  = dict(zip(['NNW', 'N', 'NW', 'NNE', 'WNW', 'W', 'WSW', 'SW', 'SSW', 'NE', 'S',\n",
    "       'SSE', 'ENE', 'SE', 'ESE', 'E'],number_range))\n",
    "      \n",
    "      \n",
    "WindDir3pm  =  dict(zip(['NW', 'NNW', 'N', 'WNW', 'W', 'NNE', 'WSW', 'SSW', 'S', 'SW', 'SE',\n",
    "       'NE', 'SSE', 'ENE', 'E', 'ESE'],number_range))"
   ]
  },
  {
   "cell_type": "code",
   "execution_count": 36,
   "metadata": {},
   "outputs": [],
   "source": [
    "# WindDir3pm"
   ]
  },
  {
   "cell_type": "markdown",
   "metadata": {},
   "source": [
    "#### let map the values so that it can be in place as the feature values"
   ]
  },
  {
   "cell_type": "code",
   "execution_count": 37,
   "metadata": {},
   "outputs": [],
   "source": [
    "data['WindGustDir'] = data['WindGustDir'].map(WindGustDir)\n",
    "data['WindDir9am'] = data['WindDir9am'].map(WindDir9am)\n",
    "data['WindDir3pm'] = data['WindDir3pm'].map(WindDir3pm)"
   ]
  },
  {
   "cell_type": "code",
   "execution_count": 38,
   "metadata": {},
   "outputs": [],
   "source": [
    "data['WindGustDir'] = data['WindGustDir'].fillna(data['WindGustDir'].value_counts().index[0])\n",
    "data['WindDir9am'] = data['WindDir9am'].fillna(data['WindDir9am'].value_counts().index[0])\n",
    "data['WindDir3pm'] = data['WindDir3pm'].fillna(data['WindDir3pm'].value_counts().index[0])"
   ]
  },
  {
   "cell_type": "code",
   "execution_count": 39,
   "metadata": {},
   "outputs": [
    {
     "data": {
      "text/plain": [
       "Date             0.0\n",
       "Location         0.0\n",
       "MinTemp          0.0\n",
       "MaxTemp          0.0\n",
       "Rainfall         0.0\n",
       "Evaporation      0.0\n",
       "Sunshine         0.0\n",
       "WindGustDir      0.0\n",
       "WindGustSpeed    0.0\n",
       "WindDir9am       0.0\n",
       "WindDir3pm       0.0\n",
       "WindSpeed9am     0.0\n",
       "WindSpeed3pm     0.0\n",
       "Humidity9am      0.0\n",
       "Humidity3pm      0.0\n",
       "Pressure9am      0.0\n",
       "Pressure3pm      0.0\n",
       "Cloud9am         0.0\n",
       "Cloud3pm         0.0\n",
       "Temp9am          0.0\n",
       "Temp3pm          0.0\n",
       "RainToday        0.0\n",
       "RainTomorrow     0.0\n",
       "dtype: float64"
      ]
     },
     "execution_count": 39,
     "metadata": {},
     "output_type": "execute_result"
    }
   ],
   "source": [
    "data.isna().sum()*100/len(data)"
   ]
  },
  {
   "cell_type": "code",
   "execution_count": 40,
   "metadata": {},
   "outputs": [
    {
     "data": {
      "text/html": [
       "<div>\n",
       "<style scoped>\n",
       "    .dataframe tbody tr th:only-of-type {\n",
       "        vertical-align: middle;\n",
       "    }\n",
       "\n",
       "    .dataframe tbody tr th {\n",
       "        vertical-align: top;\n",
       "    }\n",
       "\n",
       "    .dataframe thead th {\n",
       "        text-align: right;\n",
       "    }\n",
       "</style>\n",
       "<table border=\"1\" class=\"dataframe\">\n",
       "  <thead>\n",
       "    <tr style=\"text-align: right;\">\n",
       "      <th></th>\n",
       "      <th>Date</th>\n",
       "      <th>Location</th>\n",
       "      <th>MinTemp</th>\n",
       "      <th>MaxTemp</th>\n",
       "      <th>Rainfall</th>\n",
       "      <th>Evaporation</th>\n",
       "      <th>Sunshine</th>\n",
       "      <th>WindGustDir</th>\n",
       "      <th>WindGustSpeed</th>\n",
       "      <th>WindDir9am</th>\n",
       "      <th>WindDir3pm</th>\n",
       "      <th>WindSpeed9am</th>\n",
       "      <th>WindSpeed3pm</th>\n",
       "      <th>Humidity9am</th>\n",
       "      <th>Humidity3pm</th>\n",
       "      <th>Pressure9am</th>\n",
       "      <th>Pressure3pm</th>\n",
       "      <th>Cloud9am</th>\n",
       "      <th>Cloud3pm</th>\n",
       "      <th>Temp9am</th>\n",
       "      <th>Temp3pm</th>\n",
       "      <th>RainToday</th>\n",
       "      <th>RainTomorrow</th>\n",
       "    </tr>\n",
       "  </thead>\n",
       "  <tbody>\n",
       "    <tr>\n",
       "      <th>0</th>\n",
       "      <td>2008-12-01</td>\n",
       "      <td>Albury</td>\n",
       "      <td>13.4</td>\n",
       "      <td>22.9</td>\n",
       "      <td>0.6</td>\n",
       "      <td>2.4</td>\n",
       "      <td>8.3</td>\n",
       "      <td>4.0</td>\n",
       "      <td>44.0</td>\n",
       "      <td>5.0</td>\n",
       "      <td>3.0</td>\n",
       "      <td>20.0</td>\n",
       "      <td>24.0</td>\n",
       "      <td>71.0</td>\n",
       "      <td>22.0</td>\n",
       "      <td>1007.7</td>\n",
       "      <td>1007.1</td>\n",
       "      <td>8.0</td>\n",
       "      <td>0.0</td>\n",
       "      <td>16.9</td>\n",
       "      <td>21.8</td>\n",
       "      <td>0</td>\n",
       "      <td>0</td>\n",
       "    </tr>\n",
       "    <tr>\n",
       "      <th>1</th>\n",
       "      <td>2008-12-02</td>\n",
       "      <td>Albury</td>\n",
       "      <td>7.4</td>\n",
       "      <td>25.1</td>\n",
       "      <td>0.0</td>\n",
       "      <td>3.6</td>\n",
       "      <td>10.0</td>\n",
       "      <td>2.0</td>\n",
       "      <td>44.0</td>\n",
       "      <td>0.0</td>\n",
       "      <td>6.0</td>\n",
       "      <td>4.0</td>\n",
       "      <td>22.0</td>\n",
       "      <td>44.0</td>\n",
       "      <td>25.0</td>\n",
       "      <td>1010.6</td>\n",
       "      <td>1007.8</td>\n",
       "      <td>7.0</td>\n",
       "      <td>1.0</td>\n",
       "      <td>17.2</td>\n",
       "      <td>24.3</td>\n",
       "      <td>0</td>\n",
       "      <td>0</td>\n",
       "    </tr>\n",
       "    <tr>\n",
       "      <th>2</th>\n",
       "      <td>2008-12-03</td>\n",
       "      <td>Albury</td>\n",
       "      <td>12.9</td>\n",
       "      <td>25.7</td>\n",
       "      <td>0.0</td>\n",
       "      <td>2.6</td>\n",
       "      <td>4.4</td>\n",
       "      <td>5.0</td>\n",
       "      <td>46.0</td>\n",
       "      <td>5.0</td>\n",
       "      <td>6.0</td>\n",
       "      <td>19.0</td>\n",
       "      <td>26.0</td>\n",
       "      <td>38.0</td>\n",
       "      <td>30.0</td>\n",
       "      <td>1007.6</td>\n",
       "      <td>1008.7</td>\n",
       "      <td>8.0</td>\n",
       "      <td>2.0</td>\n",
       "      <td>21.0</td>\n",
       "      <td>23.2</td>\n",
       "      <td>0</td>\n",
       "      <td>0</td>\n",
       "    </tr>\n",
       "    <tr>\n",
       "      <th>3</th>\n",
       "      <td>2008-12-04</td>\n",
       "      <td>Albury</td>\n",
       "      <td>9.2</td>\n",
       "      <td>28.0</td>\n",
       "      <td>0.0</td>\n",
       "      <td>18.4</td>\n",
       "      <td>8.9</td>\n",
       "      <td>11.0</td>\n",
       "      <td>24.0</td>\n",
       "      <td>13.0</td>\n",
       "      <td>14.0</td>\n",
       "      <td>11.0</td>\n",
       "      <td>9.0</td>\n",
       "      <td>45.0</td>\n",
       "      <td>16.0</td>\n",
       "      <td>1017.6</td>\n",
       "      <td>1012.8</td>\n",
       "      <td>0.0</td>\n",
       "      <td>5.0</td>\n",
       "      <td>18.1</td>\n",
       "      <td>26.5</td>\n",
       "      <td>0</td>\n",
       "      <td>0</td>\n",
       "    </tr>\n",
       "    <tr>\n",
       "      <th>4</th>\n",
       "      <td>2008-12-05</td>\n",
       "      <td>Albury</td>\n",
       "      <td>17.5</td>\n",
       "      <td>32.3</td>\n",
       "      <td>1.0</td>\n",
       "      <td>5.4</td>\n",
       "      <td>3.0</td>\n",
       "      <td>4.0</td>\n",
       "      <td>41.0</td>\n",
       "      <td>12.0</td>\n",
       "      <td>0.0</td>\n",
       "      <td>7.0</td>\n",
       "      <td>20.0</td>\n",
       "      <td>82.0</td>\n",
       "      <td>33.0</td>\n",
       "      <td>1010.8</td>\n",
       "      <td>1006.0</td>\n",
       "      <td>7.0</td>\n",
       "      <td>8.0</td>\n",
       "      <td>17.8</td>\n",
       "      <td>29.7</td>\n",
       "      <td>0</td>\n",
       "      <td>0</td>\n",
       "    </tr>\n",
       "  </tbody>\n",
       "</table>\n",
       "</div>"
      ],
      "text/plain": [
       "         Date Location  MinTemp  MaxTemp  Rainfall  Evaporation  Sunshine  \\\n",
       "0  2008-12-01   Albury     13.4     22.9       0.6          2.4       8.3   \n",
       "1  2008-12-02   Albury      7.4     25.1       0.0          3.6      10.0   \n",
       "2  2008-12-03   Albury     12.9     25.7       0.0          2.6       4.4   \n",
       "3  2008-12-04   Albury      9.2     28.0       0.0         18.4       8.9   \n",
       "4  2008-12-05   Albury     17.5     32.3       1.0          5.4       3.0   \n",
       "\n",
       "   WindGustDir  WindGustSpeed  WindDir9am  WindDir3pm  WindSpeed9am  \\\n",
       "0          4.0           44.0         5.0         3.0          20.0   \n",
       "1          2.0           44.0         0.0         6.0           4.0   \n",
       "2          5.0           46.0         5.0         6.0          19.0   \n",
       "3         11.0           24.0        13.0        14.0          11.0   \n",
       "4          4.0           41.0        12.0         0.0           7.0   \n",
       "\n",
       "   WindSpeed3pm  Humidity9am  Humidity3pm  Pressure9am  Pressure3pm  Cloud9am  \\\n",
       "0          24.0         71.0         22.0       1007.7       1007.1       8.0   \n",
       "1          22.0         44.0         25.0       1010.6       1007.8       7.0   \n",
       "2          26.0         38.0         30.0       1007.6       1008.7       8.0   \n",
       "3           9.0         45.0         16.0       1017.6       1012.8       0.0   \n",
       "4          20.0         82.0         33.0       1010.8       1006.0       7.0   \n",
       "\n",
       "   Cloud3pm  Temp9am  Temp3pm  RainToday  RainTomorrow  \n",
       "0       0.0     16.9     21.8          0             0  \n",
       "1       1.0     17.2     24.3          0             0  \n",
       "2       2.0     21.0     23.2          0             0  \n",
       "3       5.0     18.1     26.5          0             0  \n",
       "4       8.0     17.8     29.7          0             0  "
      ]
     },
     "execution_count": 40,
     "metadata": {},
     "output_type": "execute_result"
    }
   ],
   "source": [
    "data.head()\n"
   ]
  },
  {
   "cell_type": "markdown",
   "metadata": {},
   "source": [
    "we have remove all the missing values with categorical data.data\n",
    "\n",
    "we will now do label encoding for our location according to our Target variable"
   ]
  },
  {
   "cell_type": "code",
   "execution_count": 41,
   "metadata": {},
   "outputs": [],
   "source": [
    "location_sort = data.groupby(data['Location'])['RainTomorrow'].value_counts().sort_values().unstack()"
   ]
  },
  {
   "cell_type": "code",
   "execution_count": 42,
   "metadata": {},
   "outputs": [
    {
     "data": {
      "text/html": [
       "<div>\n",
       "<style scoped>\n",
       "    .dataframe tbody tr th:only-of-type {\n",
       "        vertical-align: middle;\n",
       "    }\n",
       "\n",
       "    .dataframe tbody tr th {\n",
       "        vertical-align: top;\n",
       "    }\n",
       "\n",
       "    .dataframe thead th {\n",
       "        text-align: right;\n",
       "    }\n",
       "</style>\n",
       "<table border=\"1\" class=\"dataframe\">\n",
       "  <thead>\n",
       "    <tr style=\"text-align: right;\">\n",
       "      <th>RainTomorrow</th>\n",
       "      <th>0</th>\n",
       "      <th>1</th>\n",
       "    </tr>\n",
       "    <tr>\n",
       "      <th>Location</th>\n",
       "      <th></th>\n",
       "      <th></th>\n",
       "    </tr>\n",
       "  </thead>\n",
       "  <tbody>\n",
       "    <tr>\n",
       "      <th>Adelaide</th>\n",
       "      <td>2505</td>\n",
       "      <td>688</td>\n",
       "    </tr>\n",
       "    <tr>\n",
       "      <th>Albany</th>\n",
       "      <td>2138</td>\n",
       "      <td>902</td>\n",
       "    </tr>\n",
       "    <tr>\n",
       "      <th>Albury</th>\n",
       "      <td>2422</td>\n",
       "      <td>618</td>\n",
       "    </tr>\n",
       "    <tr>\n",
       "      <th>AliceSprings</th>\n",
       "      <td>2796</td>\n",
       "      <td>244</td>\n",
       "    </tr>\n",
       "    <tr>\n",
       "      <th>BadgerysCreek</th>\n",
       "      <td>2426</td>\n",
       "      <td>583</td>\n",
       "    </tr>\n",
       "  </tbody>\n",
       "</table>\n",
       "</div>"
      ],
      "text/plain": [
       "RainTomorrow      0    1\n",
       "Location                \n",
       "Adelaide       2505  688\n",
       "Albany         2138  902\n",
       "Albury         2422  618\n",
       "AliceSprings   2796  244\n",
       "BadgerysCreek  2426  583"
      ]
     },
     "execution_count": 42,
     "metadata": {},
     "output_type": "execute_result"
    }
   ],
   "source": [
    "# note that unstack is used to for multi-index data to pretify the series\n",
    "location_sort.head()"
   ]
  },
  {
   "cell_type": "markdown",
   "metadata": {},
   "source": [
    "we are Trying to get all the unique values in the location feature using our dependent feature..."
   ]
  },
  {
   "cell_type": "code",
   "execution_count": 43,
   "metadata": {},
   "outputs": [],
   "source": [
    "location_names = location_sort[1].sort_values(ascending=False).index"
   ]
  },
  {
   "cell_type": "code",
   "execution_count": 44,
   "metadata": {},
   "outputs": [
    {
     "data": {
      "text/plain": [
       "Index(['Portland', 'Cairns', 'Walpole', 'Dartmoor', 'MountGambier',\n",
       "       'NorfolkIsland', 'Albany', 'Witchcliffe', 'CoffsHarbour', 'Sydney',\n",
       "       'Darwin', 'MountGinini', 'NorahHead', 'Ballarat', 'GoldCoast',\n",
       "       'SydneyAirport', 'Hobart', 'Watsonia', 'Newcastle', 'Wollongong',\n",
       "       'Brisbane', 'Williamtown', 'Launceston', 'Adelaide', 'MelbourneAirport',\n",
       "       'Perth', 'Sale', 'Melbourne', 'Canberra', 'Albury', 'Penrith',\n",
       "       'Nuriootpa', 'BadgerysCreek', 'Tuggeranong', 'PerthAirport', 'Bendigo',\n",
       "       'Richmond', 'WaggaWagga', 'Townsville', 'PearceRAAF', 'SalmonGums',\n",
       "       'Moree', 'Cobar', 'Mildura', 'Katherine', 'AliceSprings', 'Nhil',\n",
       "       'Woomera', 'Uluru'],\n",
       "      dtype='object', name='Location')"
      ]
     },
     "execution_count": 44,
     "metadata": {},
     "output_type": "execute_result"
    }
   ],
   "source": [
    "location_names"
   ]
  },
  {
   "cell_type": "code",
   "execution_count": 45,
   "metadata": {},
   "outputs": [
    {
     "data": {
      "text/plain": [
       "{'Portland': 1,\n",
       " 'Cairns': 2,\n",
       " 'Walpole': 3,\n",
       " 'Dartmoor': 4,\n",
       " 'MountGambier': 5,\n",
       " 'NorfolkIsland': 6,\n",
       " 'Albany': 7,\n",
       " 'Witchcliffe': 8,\n",
       " 'CoffsHarbour': 9,\n",
       " 'Sydney': 10,\n",
       " 'Darwin': 11,\n",
       " 'MountGinini': 12,\n",
       " 'NorahHead': 13,\n",
       " 'Ballarat': 14,\n",
       " 'GoldCoast': 15,\n",
       " 'SydneyAirport': 16,\n",
       " 'Hobart': 17,\n",
       " 'Watsonia': 18,\n",
       " 'Newcastle': 19,\n",
       " 'Wollongong': 20,\n",
       " 'Brisbane': 21,\n",
       " 'Williamtown': 22,\n",
       " 'Launceston': 23,\n",
       " 'Adelaide': 24,\n",
       " 'MelbourneAirport': 25,\n",
       " 'Perth': 26,\n",
       " 'Sale': 27,\n",
       " 'Melbourne': 28,\n",
       " 'Canberra': 29,\n",
       " 'Albury': 30,\n",
       " 'Penrith': 31,\n",
       " 'Nuriootpa': 32,\n",
       " 'BadgerysCreek': 33,\n",
       " 'Tuggeranong': 34,\n",
       " 'PerthAirport': 35,\n",
       " 'Bendigo': 36,\n",
       " 'Richmond': 37,\n",
       " 'WaggaWagga': 38,\n",
       " 'Townsville': 39,\n",
       " 'PearceRAAF': 40,\n",
       " 'SalmonGums': 41,\n",
       " 'Moree': 42,\n",
       " 'Cobar': 43,\n",
       " 'Mildura': 44,\n",
       " 'Katherine': 45,\n",
       " 'AliceSprings': 46,\n",
       " 'Nhil': 47,\n",
       " 'Woomera': 48,\n",
       " 'Uluru': 49}"
      ]
     },
     "execution_count": 45,
     "metadata": {},
     "output_type": "execute_result"
    }
   ],
   "source": [
    "# let generate a dictionary so that we can map the location names with the values.\n",
    "mapped_location = dict(zip(location_names,list(range(1,len(location_names)+1))))\n",
    "mapped_location"
   ]
  },
  {
   "cell_type": "code",
   "execution_count": 46,
   "metadata": {},
   "outputs": [],
   "source": [
    "\n",
    "data['Location'] = data['Location'].map(mapped_location)"
   ]
  },
  {
   "cell_type": "markdown",
   "metadata": {},
   "source": [
    "wow, we have done a very nice job, so let visualize the data and see what we have got"
   ]
  },
  {
   "cell_type": "code",
   "execution_count": 47,
   "metadata": {},
   "outputs": [
    {
     "data": {
      "text/html": [
       "<div>\n",
       "<style scoped>\n",
       "    .dataframe tbody tr th:only-of-type {\n",
       "        vertical-align: middle;\n",
       "    }\n",
       "\n",
       "    .dataframe tbody tr th {\n",
       "        vertical-align: top;\n",
       "    }\n",
       "\n",
       "    .dataframe thead th {\n",
       "        text-align: right;\n",
       "    }\n",
       "</style>\n",
       "<table border=\"1\" class=\"dataframe\">\n",
       "  <thead>\n",
       "    <tr style=\"text-align: right;\">\n",
       "      <th></th>\n",
       "      <th>Date</th>\n",
       "      <th>Location</th>\n",
       "      <th>MinTemp</th>\n",
       "      <th>MaxTemp</th>\n",
       "      <th>Rainfall</th>\n",
       "      <th>Evaporation</th>\n",
       "      <th>Sunshine</th>\n",
       "      <th>WindGustDir</th>\n",
       "      <th>WindGustSpeed</th>\n",
       "      <th>WindDir9am</th>\n",
       "      <th>WindDir3pm</th>\n",
       "      <th>WindSpeed9am</th>\n",
       "      <th>WindSpeed3pm</th>\n",
       "      <th>Humidity9am</th>\n",
       "      <th>Humidity3pm</th>\n",
       "      <th>Pressure9am</th>\n",
       "      <th>Pressure3pm</th>\n",
       "      <th>Cloud9am</th>\n",
       "      <th>Cloud3pm</th>\n",
       "      <th>Temp9am</th>\n",
       "      <th>Temp3pm</th>\n",
       "      <th>RainToday</th>\n",
       "      <th>RainTomorrow</th>\n",
       "    </tr>\n",
       "  </thead>\n",
       "  <tbody>\n",
       "    <tr>\n",
       "      <th>0</th>\n",
       "      <td>2008-12-01</td>\n",
       "      <td>30</td>\n",
       "      <td>13.4</td>\n",
       "      <td>22.9</td>\n",
       "      <td>0.6</td>\n",
       "      <td>2.4</td>\n",
       "      <td>8.3</td>\n",
       "      <td>4.0</td>\n",
       "      <td>44.0</td>\n",
       "      <td>5.0</td>\n",
       "      <td>3.0</td>\n",
       "      <td>20.0</td>\n",
       "      <td>24.0</td>\n",
       "      <td>71.0</td>\n",
       "      <td>22.0</td>\n",
       "      <td>1007.7</td>\n",
       "      <td>1007.1</td>\n",
       "      <td>8.0</td>\n",
       "      <td>0.0</td>\n",
       "      <td>16.9</td>\n",
       "      <td>21.8</td>\n",
       "      <td>0</td>\n",
       "      <td>0</td>\n",
       "    </tr>\n",
       "    <tr>\n",
       "      <th>1</th>\n",
       "      <td>2008-12-02</td>\n",
       "      <td>30</td>\n",
       "      <td>7.4</td>\n",
       "      <td>25.1</td>\n",
       "      <td>0.0</td>\n",
       "      <td>3.6</td>\n",
       "      <td>10.0</td>\n",
       "      <td>2.0</td>\n",
       "      <td>44.0</td>\n",
       "      <td>0.0</td>\n",
       "      <td>6.0</td>\n",
       "      <td>4.0</td>\n",
       "      <td>22.0</td>\n",
       "      <td>44.0</td>\n",
       "      <td>25.0</td>\n",
       "      <td>1010.6</td>\n",
       "      <td>1007.8</td>\n",
       "      <td>7.0</td>\n",
       "      <td>1.0</td>\n",
       "      <td>17.2</td>\n",
       "      <td>24.3</td>\n",
       "      <td>0</td>\n",
       "      <td>0</td>\n",
       "    </tr>\n",
       "    <tr>\n",
       "      <th>2</th>\n",
       "      <td>2008-12-03</td>\n",
       "      <td>30</td>\n",
       "      <td>12.9</td>\n",
       "      <td>25.7</td>\n",
       "      <td>0.0</td>\n",
       "      <td>2.6</td>\n",
       "      <td>4.4</td>\n",
       "      <td>5.0</td>\n",
       "      <td>46.0</td>\n",
       "      <td>5.0</td>\n",
       "      <td>6.0</td>\n",
       "      <td>19.0</td>\n",
       "      <td>26.0</td>\n",
       "      <td>38.0</td>\n",
       "      <td>30.0</td>\n",
       "      <td>1007.6</td>\n",
       "      <td>1008.7</td>\n",
       "      <td>8.0</td>\n",
       "      <td>2.0</td>\n",
       "      <td>21.0</td>\n",
       "      <td>23.2</td>\n",
       "      <td>0</td>\n",
       "      <td>0</td>\n",
       "    </tr>\n",
       "    <tr>\n",
       "      <th>3</th>\n",
       "      <td>2008-12-04</td>\n",
       "      <td>30</td>\n",
       "      <td>9.2</td>\n",
       "      <td>28.0</td>\n",
       "      <td>0.0</td>\n",
       "      <td>18.4</td>\n",
       "      <td>8.9</td>\n",
       "      <td>11.0</td>\n",
       "      <td>24.0</td>\n",
       "      <td>13.0</td>\n",
       "      <td>14.0</td>\n",
       "      <td>11.0</td>\n",
       "      <td>9.0</td>\n",
       "      <td>45.0</td>\n",
       "      <td>16.0</td>\n",
       "      <td>1017.6</td>\n",
       "      <td>1012.8</td>\n",
       "      <td>0.0</td>\n",
       "      <td>5.0</td>\n",
       "      <td>18.1</td>\n",
       "      <td>26.5</td>\n",
       "      <td>0</td>\n",
       "      <td>0</td>\n",
       "    </tr>\n",
       "    <tr>\n",
       "      <th>4</th>\n",
       "      <td>2008-12-05</td>\n",
       "      <td>30</td>\n",
       "      <td>17.5</td>\n",
       "      <td>32.3</td>\n",
       "      <td>1.0</td>\n",
       "      <td>5.4</td>\n",
       "      <td>3.0</td>\n",
       "      <td>4.0</td>\n",
       "      <td>41.0</td>\n",
       "      <td>12.0</td>\n",
       "      <td>0.0</td>\n",
       "      <td>7.0</td>\n",
       "      <td>20.0</td>\n",
       "      <td>82.0</td>\n",
       "      <td>33.0</td>\n",
       "      <td>1010.8</td>\n",
       "      <td>1006.0</td>\n",
       "      <td>7.0</td>\n",
       "      <td>8.0</td>\n",
       "      <td>17.8</td>\n",
       "      <td>29.7</td>\n",
       "      <td>0</td>\n",
       "      <td>0</td>\n",
       "    </tr>\n",
       "  </tbody>\n",
       "</table>\n",
       "</div>"
      ],
      "text/plain": [
       "         Date  Location  MinTemp  MaxTemp  Rainfall  Evaporation  Sunshine  \\\n",
       "0  2008-12-01        30     13.4     22.9       0.6          2.4       8.3   \n",
       "1  2008-12-02        30      7.4     25.1       0.0          3.6      10.0   \n",
       "2  2008-12-03        30     12.9     25.7       0.0          2.6       4.4   \n",
       "3  2008-12-04        30      9.2     28.0       0.0         18.4       8.9   \n",
       "4  2008-12-05        30     17.5     32.3       1.0          5.4       3.0   \n",
       "\n",
       "   WindGustDir  WindGustSpeed  WindDir9am  WindDir3pm  WindSpeed9am  \\\n",
       "0          4.0           44.0         5.0         3.0          20.0   \n",
       "1          2.0           44.0         0.0         6.0           4.0   \n",
       "2          5.0           46.0         5.0         6.0          19.0   \n",
       "3         11.0           24.0        13.0        14.0          11.0   \n",
       "4          4.0           41.0        12.0         0.0           7.0   \n",
       "\n",
       "   WindSpeed3pm  Humidity9am  Humidity3pm  Pressure9am  Pressure3pm  Cloud9am  \\\n",
       "0          24.0         71.0         22.0       1007.7       1007.1       8.0   \n",
       "1          22.0         44.0         25.0       1010.6       1007.8       7.0   \n",
       "2          26.0         38.0         30.0       1007.6       1008.7       8.0   \n",
       "3           9.0         45.0         16.0       1017.6       1012.8       0.0   \n",
       "4          20.0         82.0         33.0       1010.8       1006.0       7.0   \n",
       "\n",
       "   Cloud3pm  Temp9am  Temp3pm  RainToday  RainTomorrow  \n",
       "0       0.0     16.9     21.8          0             0  \n",
       "1       1.0     17.2     24.3          0             0  \n",
       "2       2.0     21.0     23.2          0             0  \n",
       "3       5.0     18.1     26.5          0             0  \n",
       "4       8.0     17.8     29.7          0             0  "
      ]
     },
     "execution_count": 47,
     "metadata": {},
     "output_type": "execute_result"
    }
   ],
   "source": [
    "data.head()"
   ]
  },
  {
   "cell_type": "code",
   "execution_count": 48,
   "metadata": {},
   "outputs": [
    {
     "data": {
      "text/html": [
       "<div>\n",
       "<style scoped>\n",
       "    .dataframe tbody tr th:only-of-type {\n",
       "        vertical-align: middle;\n",
       "    }\n",
       "\n",
       "    .dataframe tbody tr th {\n",
       "        vertical-align: top;\n",
       "    }\n",
       "\n",
       "    .dataframe thead th {\n",
       "        text-align: right;\n",
       "    }\n",
       "</style>\n",
       "<table border=\"1\" class=\"dataframe\">\n",
       "  <thead>\n",
       "    <tr style=\"text-align: right;\">\n",
       "      <th></th>\n",
       "      <th>Date</th>\n",
       "      <th>Location</th>\n",
       "      <th>MinTemp</th>\n",
       "      <th>MaxTemp</th>\n",
       "      <th>Rainfall</th>\n",
       "      <th>Evaporation</th>\n",
       "      <th>Sunshine</th>\n",
       "      <th>WindGustDir</th>\n",
       "      <th>WindGustSpeed</th>\n",
       "      <th>WindDir9am</th>\n",
       "      <th>WindDir3pm</th>\n",
       "      <th>WindSpeed9am</th>\n",
       "      <th>WindSpeed3pm</th>\n",
       "      <th>Humidity9am</th>\n",
       "      <th>Humidity3pm</th>\n",
       "      <th>Pressure9am</th>\n",
       "      <th>Pressure3pm</th>\n",
       "      <th>Cloud9am</th>\n",
       "      <th>Cloud3pm</th>\n",
       "      <th>Temp9am</th>\n",
       "      <th>Temp3pm</th>\n",
       "      <th>RainToday</th>\n",
       "      <th>RainTomorrow</th>\n",
       "    </tr>\n",
       "  </thead>\n",
       "  <tbody>\n",
       "    <tr>\n",
       "      <th>145455</th>\n",
       "      <td>2017-06-21</td>\n",
       "      <td>49</td>\n",
       "      <td>2.8</td>\n",
       "      <td>23.400000</td>\n",
       "      <td>0.0</td>\n",
       "      <td>1.4</td>\n",
       "      <td>7.8</td>\n",
       "      <td>15.0</td>\n",
       "      <td>31.00000</td>\n",
       "      <td>13.0</td>\n",
       "      <td>13.0</td>\n",
       "      <td>13.0</td>\n",
       "      <td>11.0</td>\n",
       "      <td>51.0</td>\n",
       "      <td>24.0</td>\n",
       "      <td>1024.6</td>\n",
       "      <td>1020.3</td>\n",
       "      <td>1.0</td>\n",
       "      <td>1.0</td>\n",
       "      <td>10.1</td>\n",
       "      <td>22.4</td>\n",
       "      <td>0</td>\n",
       "      <td>0</td>\n",
       "    </tr>\n",
       "    <tr>\n",
       "      <th>145456</th>\n",
       "      <td>2017-06-22</td>\n",
       "      <td>49</td>\n",
       "      <td>3.6</td>\n",
       "      <td>25.300000</td>\n",
       "      <td>0.0</td>\n",
       "      <td>7.6</td>\n",
       "      <td>13.5</td>\n",
       "      <td>0.0</td>\n",
       "      <td>22.00000</td>\n",
       "      <td>13.0</td>\n",
       "      <td>2.0</td>\n",
       "      <td>13.0</td>\n",
       "      <td>9.0</td>\n",
       "      <td>56.0</td>\n",
       "      <td>21.0</td>\n",
       "      <td>1023.5</td>\n",
       "      <td>1019.1</td>\n",
       "      <td>8.0</td>\n",
       "      <td>5.0</td>\n",
       "      <td>10.9</td>\n",
       "      <td>24.5</td>\n",
       "      <td>0</td>\n",
       "      <td>0</td>\n",
       "    </tr>\n",
       "    <tr>\n",
       "      <th>145457</th>\n",
       "      <td>2017-06-23</td>\n",
       "      <td>49</td>\n",
       "      <td>5.4</td>\n",
       "      <td>26.900000</td>\n",
       "      <td>0.0</td>\n",
       "      <td>6.8</td>\n",
       "      <td>11.0</td>\n",
       "      <td>3.0</td>\n",
       "      <td>37.00000</td>\n",
       "      <td>13.0</td>\n",
       "      <td>3.0</td>\n",
       "      <td>9.0</td>\n",
       "      <td>9.0</td>\n",
       "      <td>53.0</td>\n",
       "      <td>24.0</td>\n",
       "      <td>1021.0</td>\n",
       "      <td>1016.8</td>\n",
       "      <td>8.0</td>\n",
       "      <td>1.0</td>\n",
       "      <td>12.5</td>\n",
       "      <td>26.1</td>\n",
       "      <td>0</td>\n",
       "      <td>0</td>\n",
       "    </tr>\n",
       "    <tr>\n",
       "      <th>145458</th>\n",
       "      <td>2017-06-24</td>\n",
       "      <td>49</td>\n",
       "      <td>7.8</td>\n",
       "      <td>27.000000</td>\n",
       "      <td>0.0</td>\n",
       "      <td>2.6</td>\n",
       "      <td>13.2</td>\n",
       "      <td>12.0</td>\n",
       "      <td>28.00000</td>\n",
       "      <td>11.0</td>\n",
       "      <td>2.0</td>\n",
       "      <td>13.0</td>\n",
       "      <td>7.0</td>\n",
       "      <td>51.0</td>\n",
       "      <td>24.0</td>\n",
       "      <td>1019.4</td>\n",
       "      <td>1016.5</td>\n",
       "      <td>3.0</td>\n",
       "      <td>2.0</td>\n",
       "      <td>15.1</td>\n",
       "      <td>26.0</td>\n",
       "      <td>0</td>\n",
       "      <td>0</td>\n",
       "    </tr>\n",
       "    <tr>\n",
       "      <th>145459</th>\n",
       "      <td>2017-06-25</td>\n",
       "      <td>49</td>\n",
       "      <td>14.9</td>\n",
       "      <td>23.221348</td>\n",
       "      <td>0.0</td>\n",
       "      <td>1.4</td>\n",
       "      <td>0.7</td>\n",
       "      <td>4.0</td>\n",
       "      <td>40.03523</td>\n",
       "      <td>14.0</td>\n",
       "      <td>15.0</td>\n",
       "      <td>17.0</td>\n",
       "      <td>17.0</td>\n",
       "      <td>62.0</td>\n",
       "      <td>36.0</td>\n",
       "      <td>1020.2</td>\n",
       "      <td>1017.9</td>\n",
       "      <td>8.0</td>\n",
       "      <td>8.0</td>\n",
       "      <td>15.0</td>\n",
       "      <td>20.9</td>\n",
       "      <td>0</td>\n",
       "      <td>0</td>\n",
       "    </tr>\n",
       "  </tbody>\n",
       "</table>\n",
       "</div>"
      ],
      "text/plain": [
       "              Date  Location  MinTemp    MaxTemp  Rainfall  Evaporation  \\\n",
       "145455  2017-06-21        49      2.8  23.400000       0.0          1.4   \n",
       "145456  2017-06-22        49      3.6  25.300000       0.0          7.6   \n",
       "145457  2017-06-23        49      5.4  26.900000       0.0          6.8   \n",
       "145458  2017-06-24        49      7.8  27.000000       0.0          2.6   \n",
       "145459  2017-06-25        49     14.9  23.221348       0.0          1.4   \n",
       "\n",
       "        Sunshine  WindGustDir  WindGustSpeed  WindDir9am  WindDir3pm  \\\n",
       "145455       7.8         15.0       31.00000        13.0        13.0   \n",
       "145456      13.5          0.0       22.00000        13.0         2.0   \n",
       "145457      11.0          3.0       37.00000        13.0         3.0   \n",
       "145458      13.2         12.0       28.00000        11.0         2.0   \n",
       "145459       0.7          4.0       40.03523        14.0        15.0   \n",
       "\n",
       "        WindSpeed9am  WindSpeed3pm  Humidity9am  Humidity3pm  Pressure9am  \\\n",
       "145455          13.0          11.0         51.0         24.0       1024.6   \n",
       "145456          13.0           9.0         56.0         21.0       1023.5   \n",
       "145457           9.0           9.0         53.0         24.0       1021.0   \n",
       "145458          13.0           7.0         51.0         24.0       1019.4   \n",
       "145459          17.0          17.0         62.0         36.0       1020.2   \n",
       "\n",
       "        Pressure3pm  Cloud9am  Cloud3pm  Temp9am  Temp3pm  RainToday  \\\n",
       "145455       1020.3       1.0       1.0     10.1     22.4          0   \n",
       "145456       1019.1       8.0       5.0     10.9     24.5          0   \n",
       "145457       1016.8       8.0       1.0     12.5     26.1          0   \n",
       "145458       1016.5       3.0       2.0     15.1     26.0          0   \n",
       "145459       1017.9       8.0       8.0     15.0     20.9          0   \n",
       "\n",
       "        RainTomorrow  \n",
       "145455             0  \n",
       "145456             0  \n",
       "145457             0  \n",
       "145458             0  \n",
       "145459             0  "
      ]
     },
     "execution_count": 48,
     "metadata": {},
     "output_type": "execute_result"
    }
   ],
   "source": [
    "data.tail()"
   ]
  },
  {
   "cell_type": "markdown",
   "metadata": {},
   "source": [
    "### so let us preprocess date_time feature"
   ]
  },
  {
   "cell_type": "code",
   "execution_count": 49,
   "metadata": {},
   "outputs": [],
   "source": [
    "data['Date'] = pd.to_datetime(data['Date'],format='%Y-%m-%dT',errors='coerce')"
   ]
  },
  {
   "cell_type": "code",
   "execution_count": 50,
   "metadata": {},
   "outputs": [],
   "source": [
    "data['date_day'] = data['Date'].dt.day\n",
    "data['date_month'] = data['Date'].dt.month"
   ]
  },
  {
   "cell_type": "code",
   "execution_count": 51,
   "metadata": {},
   "outputs": [
    {
     "data": {
      "text/html": [
       "<div>\n",
       "<style scoped>\n",
       "    .dataframe tbody tr th:only-of-type {\n",
       "        vertical-align: middle;\n",
       "    }\n",
       "\n",
       "    .dataframe tbody tr th {\n",
       "        vertical-align: top;\n",
       "    }\n",
       "\n",
       "    .dataframe thead th {\n",
       "        text-align: right;\n",
       "    }\n",
       "</style>\n",
       "<table border=\"1\" class=\"dataframe\">\n",
       "  <thead>\n",
       "    <tr style=\"text-align: right;\">\n",
       "      <th></th>\n",
       "      <th>Date</th>\n",
       "      <th>Location</th>\n",
       "      <th>MinTemp</th>\n",
       "      <th>MaxTemp</th>\n",
       "      <th>Rainfall</th>\n",
       "      <th>Evaporation</th>\n",
       "      <th>Sunshine</th>\n",
       "      <th>WindGustDir</th>\n",
       "      <th>WindGustSpeed</th>\n",
       "      <th>WindDir9am</th>\n",
       "      <th>WindDir3pm</th>\n",
       "      <th>WindSpeed9am</th>\n",
       "      <th>WindSpeed3pm</th>\n",
       "      <th>Humidity9am</th>\n",
       "      <th>Humidity3pm</th>\n",
       "      <th>Pressure9am</th>\n",
       "      <th>Pressure3pm</th>\n",
       "      <th>Cloud9am</th>\n",
       "      <th>Cloud3pm</th>\n",
       "      <th>Temp9am</th>\n",
       "      <th>Temp3pm</th>\n",
       "      <th>RainToday</th>\n",
       "      <th>RainTomorrow</th>\n",
       "      <th>date_day</th>\n",
       "      <th>date_month</th>\n",
       "    </tr>\n",
       "  </thead>\n",
       "  <tbody>\n",
       "    <tr>\n",
       "      <th>0</th>\n",
       "      <td>2008-12-01</td>\n",
       "      <td>30</td>\n",
       "      <td>13.4</td>\n",
       "      <td>22.9</td>\n",
       "      <td>0.6</td>\n",
       "      <td>2.4</td>\n",
       "      <td>8.3</td>\n",
       "      <td>4.0</td>\n",
       "      <td>44.0</td>\n",
       "      <td>5.0</td>\n",
       "      <td>3.0</td>\n",
       "      <td>20.0</td>\n",
       "      <td>24.0</td>\n",
       "      <td>71.0</td>\n",
       "      <td>22.0</td>\n",
       "      <td>1007.7</td>\n",
       "      <td>1007.1</td>\n",
       "      <td>8.0</td>\n",
       "      <td>0.0</td>\n",
       "      <td>16.9</td>\n",
       "      <td>21.8</td>\n",
       "      <td>0</td>\n",
       "      <td>0</td>\n",
       "      <td>1</td>\n",
       "      <td>12</td>\n",
       "    </tr>\n",
       "    <tr>\n",
       "      <th>1</th>\n",
       "      <td>2008-12-02</td>\n",
       "      <td>30</td>\n",
       "      <td>7.4</td>\n",
       "      <td>25.1</td>\n",
       "      <td>0.0</td>\n",
       "      <td>3.6</td>\n",
       "      <td>10.0</td>\n",
       "      <td>2.0</td>\n",
       "      <td>44.0</td>\n",
       "      <td>0.0</td>\n",
       "      <td>6.0</td>\n",
       "      <td>4.0</td>\n",
       "      <td>22.0</td>\n",
       "      <td>44.0</td>\n",
       "      <td>25.0</td>\n",
       "      <td>1010.6</td>\n",
       "      <td>1007.8</td>\n",
       "      <td>7.0</td>\n",
       "      <td>1.0</td>\n",
       "      <td>17.2</td>\n",
       "      <td>24.3</td>\n",
       "      <td>0</td>\n",
       "      <td>0</td>\n",
       "      <td>2</td>\n",
       "      <td>12</td>\n",
       "    </tr>\n",
       "    <tr>\n",
       "      <th>2</th>\n",
       "      <td>2008-12-03</td>\n",
       "      <td>30</td>\n",
       "      <td>12.9</td>\n",
       "      <td>25.7</td>\n",
       "      <td>0.0</td>\n",
       "      <td>2.6</td>\n",
       "      <td>4.4</td>\n",
       "      <td>5.0</td>\n",
       "      <td>46.0</td>\n",
       "      <td>5.0</td>\n",
       "      <td>6.0</td>\n",
       "      <td>19.0</td>\n",
       "      <td>26.0</td>\n",
       "      <td>38.0</td>\n",
       "      <td>30.0</td>\n",
       "      <td>1007.6</td>\n",
       "      <td>1008.7</td>\n",
       "      <td>8.0</td>\n",
       "      <td>2.0</td>\n",
       "      <td>21.0</td>\n",
       "      <td>23.2</td>\n",
       "      <td>0</td>\n",
       "      <td>0</td>\n",
       "      <td>3</td>\n",
       "      <td>12</td>\n",
       "    </tr>\n",
       "    <tr>\n",
       "      <th>3</th>\n",
       "      <td>2008-12-04</td>\n",
       "      <td>30</td>\n",
       "      <td>9.2</td>\n",
       "      <td>28.0</td>\n",
       "      <td>0.0</td>\n",
       "      <td>18.4</td>\n",
       "      <td>8.9</td>\n",
       "      <td>11.0</td>\n",
       "      <td>24.0</td>\n",
       "      <td>13.0</td>\n",
       "      <td>14.0</td>\n",
       "      <td>11.0</td>\n",
       "      <td>9.0</td>\n",
       "      <td>45.0</td>\n",
       "      <td>16.0</td>\n",
       "      <td>1017.6</td>\n",
       "      <td>1012.8</td>\n",
       "      <td>0.0</td>\n",
       "      <td>5.0</td>\n",
       "      <td>18.1</td>\n",
       "      <td>26.5</td>\n",
       "      <td>0</td>\n",
       "      <td>0</td>\n",
       "      <td>4</td>\n",
       "      <td>12</td>\n",
       "    </tr>\n",
       "    <tr>\n",
       "      <th>4</th>\n",
       "      <td>2008-12-05</td>\n",
       "      <td>30</td>\n",
       "      <td>17.5</td>\n",
       "      <td>32.3</td>\n",
       "      <td>1.0</td>\n",
       "      <td>5.4</td>\n",
       "      <td>3.0</td>\n",
       "      <td>4.0</td>\n",
       "      <td>41.0</td>\n",
       "      <td>12.0</td>\n",
       "      <td>0.0</td>\n",
       "      <td>7.0</td>\n",
       "      <td>20.0</td>\n",
       "      <td>82.0</td>\n",
       "      <td>33.0</td>\n",
       "      <td>1010.8</td>\n",
       "      <td>1006.0</td>\n",
       "      <td>7.0</td>\n",
       "      <td>8.0</td>\n",
       "      <td>17.8</td>\n",
       "      <td>29.7</td>\n",
       "      <td>0</td>\n",
       "      <td>0</td>\n",
       "      <td>5</td>\n",
       "      <td>12</td>\n",
       "    </tr>\n",
       "  </tbody>\n",
       "</table>\n",
       "</div>"
      ],
      "text/plain": [
       "        Date  Location  MinTemp  MaxTemp  Rainfall  Evaporation  Sunshine  \\\n",
       "0 2008-12-01        30     13.4     22.9       0.6          2.4       8.3   \n",
       "1 2008-12-02        30      7.4     25.1       0.0          3.6      10.0   \n",
       "2 2008-12-03        30     12.9     25.7       0.0          2.6       4.4   \n",
       "3 2008-12-04        30      9.2     28.0       0.0         18.4       8.9   \n",
       "4 2008-12-05        30     17.5     32.3       1.0          5.4       3.0   \n",
       "\n",
       "   WindGustDir  WindGustSpeed  WindDir9am  WindDir3pm  WindSpeed9am  \\\n",
       "0          4.0           44.0         5.0         3.0          20.0   \n",
       "1          2.0           44.0         0.0         6.0           4.0   \n",
       "2          5.0           46.0         5.0         6.0          19.0   \n",
       "3         11.0           24.0        13.0        14.0          11.0   \n",
       "4          4.0           41.0        12.0         0.0           7.0   \n",
       "\n",
       "   WindSpeed3pm  Humidity9am  Humidity3pm  Pressure9am  Pressure3pm  Cloud9am  \\\n",
       "0          24.0         71.0         22.0       1007.7       1007.1       8.0   \n",
       "1          22.0         44.0         25.0       1010.6       1007.8       7.0   \n",
       "2          26.0         38.0         30.0       1007.6       1008.7       8.0   \n",
       "3           9.0         45.0         16.0       1017.6       1012.8       0.0   \n",
       "4          20.0         82.0         33.0       1010.8       1006.0       7.0   \n",
       "\n",
       "   Cloud3pm  Temp9am  Temp3pm  RainToday  RainTomorrow  date_day  date_month  \n",
       "0       0.0     16.9     21.8          0             0         1          12  \n",
       "1       1.0     17.2     24.3          0             0         2          12  \n",
       "2       2.0     21.0     23.2          0             0         3          12  \n",
       "3       5.0     18.1     26.5          0             0         4          12  \n",
       "4       8.0     17.8     29.7          0             0         5          12  "
      ]
     },
     "execution_count": 51,
     "metadata": {},
     "output_type": "execute_result"
    }
   ],
   "source": [
    "data.head()"
   ]
  },
  {
   "cell_type": "markdown",
   "metadata": {},
   "source": [
    "#### So now i don't need the Date feature ... what do you think we can do about it? yes absolutely correct, we will remove it using drop method.\n",
    "\n",
    "**so let go and do that in the next cell**"
   ]
  },
  {
   "cell_type": "code",
   "execution_count": 52,
   "metadata": {},
   "outputs": [],
   "source": [
    "data.drop(['Date'], axis=1,inplace=True)\n",
    "# let check if it has been effected"
   ]
  },
  {
   "cell_type": "code",
   "execution_count": 53,
   "metadata": {},
   "outputs": [
    {
     "data": {
      "text/html": [
       "<div>\n",
       "<style scoped>\n",
       "    .dataframe tbody tr th:only-of-type {\n",
       "        vertical-align: middle;\n",
       "    }\n",
       "\n",
       "    .dataframe tbody tr th {\n",
       "        vertical-align: top;\n",
       "    }\n",
       "\n",
       "    .dataframe thead th {\n",
       "        text-align: right;\n",
       "    }\n",
       "</style>\n",
       "<table border=\"1\" class=\"dataframe\">\n",
       "  <thead>\n",
       "    <tr style=\"text-align: right;\">\n",
       "      <th></th>\n",
       "      <th>Location</th>\n",
       "      <th>MinTemp</th>\n",
       "      <th>MaxTemp</th>\n",
       "      <th>Rainfall</th>\n",
       "      <th>Evaporation</th>\n",
       "      <th>Sunshine</th>\n",
       "      <th>WindGustDir</th>\n",
       "      <th>WindGustSpeed</th>\n",
       "      <th>WindDir9am</th>\n",
       "      <th>WindDir3pm</th>\n",
       "      <th>WindSpeed9am</th>\n",
       "      <th>WindSpeed3pm</th>\n",
       "      <th>Humidity9am</th>\n",
       "      <th>Humidity3pm</th>\n",
       "      <th>Pressure9am</th>\n",
       "      <th>Pressure3pm</th>\n",
       "      <th>Cloud9am</th>\n",
       "      <th>Cloud3pm</th>\n",
       "      <th>Temp9am</th>\n",
       "      <th>Temp3pm</th>\n",
       "      <th>RainToday</th>\n",
       "      <th>RainTomorrow</th>\n",
       "      <th>date_day</th>\n",
       "      <th>date_month</th>\n",
       "    </tr>\n",
       "  </thead>\n",
       "  <tbody>\n",
       "    <tr>\n",
       "      <th>0</th>\n",
       "      <td>30</td>\n",
       "      <td>13.4</td>\n",
       "      <td>22.9</td>\n",
       "      <td>0.6</td>\n",
       "      <td>2.4</td>\n",
       "      <td>8.3</td>\n",
       "      <td>4.0</td>\n",
       "      <td>44.0</td>\n",
       "      <td>5.0</td>\n",
       "      <td>3.0</td>\n",
       "      <td>20.0</td>\n",
       "      <td>24.0</td>\n",
       "      <td>71.0</td>\n",
       "      <td>22.0</td>\n",
       "      <td>1007.7</td>\n",
       "      <td>1007.1</td>\n",
       "      <td>8.0</td>\n",
       "      <td>0.0</td>\n",
       "      <td>16.9</td>\n",
       "      <td>21.8</td>\n",
       "      <td>0</td>\n",
       "      <td>0</td>\n",
       "      <td>1</td>\n",
       "      <td>12</td>\n",
       "    </tr>\n",
       "    <tr>\n",
       "      <th>1</th>\n",
       "      <td>30</td>\n",
       "      <td>7.4</td>\n",
       "      <td>25.1</td>\n",
       "      <td>0.0</td>\n",
       "      <td>3.6</td>\n",
       "      <td>10.0</td>\n",
       "      <td>2.0</td>\n",
       "      <td>44.0</td>\n",
       "      <td>0.0</td>\n",
       "      <td>6.0</td>\n",
       "      <td>4.0</td>\n",
       "      <td>22.0</td>\n",
       "      <td>44.0</td>\n",
       "      <td>25.0</td>\n",
       "      <td>1010.6</td>\n",
       "      <td>1007.8</td>\n",
       "      <td>7.0</td>\n",
       "      <td>1.0</td>\n",
       "      <td>17.2</td>\n",
       "      <td>24.3</td>\n",
       "      <td>0</td>\n",
       "      <td>0</td>\n",
       "      <td>2</td>\n",
       "      <td>12</td>\n",
       "    </tr>\n",
       "    <tr>\n",
       "      <th>2</th>\n",
       "      <td>30</td>\n",
       "      <td>12.9</td>\n",
       "      <td>25.7</td>\n",
       "      <td>0.0</td>\n",
       "      <td>2.6</td>\n",
       "      <td>4.4</td>\n",
       "      <td>5.0</td>\n",
       "      <td>46.0</td>\n",
       "      <td>5.0</td>\n",
       "      <td>6.0</td>\n",
       "      <td>19.0</td>\n",
       "      <td>26.0</td>\n",
       "      <td>38.0</td>\n",
       "      <td>30.0</td>\n",
       "      <td>1007.6</td>\n",
       "      <td>1008.7</td>\n",
       "      <td>8.0</td>\n",
       "      <td>2.0</td>\n",
       "      <td>21.0</td>\n",
       "      <td>23.2</td>\n",
       "      <td>0</td>\n",
       "      <td>0</td>\n",
       "      <td>3</td>\n",
       "      <td>12</td>\n",
       "    </tr>\n",
       "    <tr>\n",
       "      <th>3</th>\n",
       "      <td>30</td>\n",
       "      <td>9.2</td>\n",
       "      <td>28.0</td>\n",
       "      <td>0.0</td>\n",
       "      <td>18.4</td>\n",
       "      <td>8.9</td>\n",
       "      <td>11.0</td>\n",
       "      <td>24.0</td>\n",
       "      <td>13.0</td>\n",
       "      <td>14.0</td>\n",
       "      <td>11.0</td>\n",
       "      <td>9.0</td>\n",
       "      <td>45.0</td>\n",
       "      <td>16.0</td>\n",
       "      <td>1017.6</td>\n",
       "      <td>1012.8</td>\n",
       "      <td>0.0</td>\n",
       "      <td>5.0</td>\n",
       "      <td>18.1</td>\n",
       "      <td>26.5</td>\n",
       "      <td>0</td>\n",
       "      <td>0</td>\n",
       "      <td>4</td>\n",
       "      <td>12</td>\n",
       "    </tr>\n",
       "    <tr>\n",
       "      <th>4</th>\n",
       "      <td>30</td>\n",
       "      <td>17.5</td>\n",
       "      <td>32.3</td>\n",
       "      <td>1.0</td>\n",
       "      <td>5.4</td>\n",
       "      <td>3.0</td>\n",
       "      <td>4.0</td>\n",
       "      <td>41.0</td>\n",
       "      <td>12.0</td>\n",
       "      <td>0.0</td>\n",
       "      <td>7.0</td>\n",
       "      <td>20.0</td>\n",
       "      <td>82.0</td>\n",
       "      <td>33.0</td>\n",
       "      <td>1010.8</td>\n",
       "      <td>1006.0</td>\n",
       "      <td>7.0</td>\n",
       "      <td>8.0</td>\n",
       "      <td>17.8</td>\n",
       "      <td>29.7</td>\n",
       "      <td>0</td>\n",
       "      <td>0</td>\n",
       "      <td>5</td>\n",
       "      <td>12</td>\n",
       "    </tr>\n",
       "  </tbody>\n",
       "</table>\n",
       "</div>"
      ],
      "text/plain": [
       "   Location  MinTemp  MaxTemp  Rainfall  Evaporation  Sunshine  WindGustDir  \\\n",
       "0        30     13.4     22.9       0.6          2.4       8.3          4.0   \n",
       "1        30      7.4     25.1       0.0          3.6      10.0          2.0   \n",
       "2        30     12.9     25.7       0.0          2.6       4.4          5.0   \n",
       "3        30      9.2     28.0       0.0         18.4       8.9         11.0   \n",
       "4        30     17.5     32.3       1.0          5.4       3.0          4.0   \n",
       "\n",
       "   WindGustSpeed  WindDir9am  WindDir3pm  WindSpeed9am  WindSpeed3pm  \\\n",
       "0           44.0         5.0         3.0          20.0          24.0   \n",
       "1           44.0         0.0         6.0           4.0          22.0   \n",
       "2           46.0         5.0         6.0          19.0          26.0   \n",
       "3           24.0        13.0        14.0          11.0           9.0   \n",
       "4           41.0        12.0         0.0           7.0          20.0   \n",
       "\n",
       "   Humidity9am  Humidity3pm  Pressure9am  Pressure3pm  Cloud9am  Cloud3pm  \\\n",
       "0         71.0         22.0       1007.7       1007.1       8.0       0.0   \n",
       "1         44.0         25.0       1010.6       1007.8       7.0       1.0   \n",
       "2         38.0         30.0       1007.6       1008.7       8.0       2.0   \n",
       "3         45.0         16.0       1017.6       1012.8       0.0       5.0   \n",
       "4         82.0         33.0       1010.8       1006.0       7.0       8.0   \n",
       "\n",
       "   Temp9am  Temp3pm  RainToday  RainTomorrow  date_day  date_month  \n",
       "0     16.9     21.8          0             0         1          12  \n",
       "1     17.2     24.3          0             0         2          12  \n",
       "2     21.0     23.2          0             0         3          12  \n",
       "3     18.1     26.5          0             0         4          12  \n",
       "4     17.8     29.7          0             0         5          12  "
      ]
     },
     "execution_count": 53,
     "metadata": {},
     "output_type": "execute_result"
    }
   ],
   "source": [
    "data.head()"
   ]
  },
  {
   "cell_type": "markdown",
   "metadata": {},
   "source": [
    "good job Teacher mec.... it has been effected "
   ]
  },
  {
   "cell_type": "code",
   "execution_count": 54,
   "metadata": {},
   "outputs": [
    {
     "name": "stderr",
     "output_type": "stream",
     "text": [
      "C:\\Users\\ABDULBASIT\\anaconda3\\envs\\mec\\lib\\site-packages\\seaborn\\_decorators.py:36: FutureWarning: Pass the following variable as a keyword arg: x. From version 0.12, the only valid positional argument will be `data`, and passing other arguments without an explicit keyword will result in an error or misinterpretation.\n",
      "  warnings.warn(\n"
     ]
    },
    {
     "data": {
      "text/plain": [
       "<AxesSubplot:xlabel='RainTomorrow', ylabel='count'>"
      ]
     },
     "execution_count": 54,
     "metadata": {},
     "output_type": "execute_result"
    },
    {
     "data": {
      "image/png": "[encoded data removed]",
      "text/plain": [
       "<Figure size 432x288 with 1 Axes>"
      ]
     },
     "metadata": {
      "needs_background": "light"
     },
     "output_type": "display_data"
    }
   ],
   "source": [
    "# let see the our RainTomorrow ina histogram \n",
    "sn.countplot(data['RainTomorrow'])"
   ]
  },
  {
   "cell_type": "markdown",
   "metadata": {},
   "source": [
    "omo! do you know why this is so... if you can remember, we have 2.something missing values before the preprocessing of this feature.. so all the missing values was preprocessed to 0. that was why we have this.\n",
    "but don't bother too much about it, we will run the model like that and if i see that the model is not good enough, i will have to drop the missing values and retrain the model, probably using the cellwith missing values to test our model.\n",
    "I think you are fine with that"
   ]
  },
  {
   "cell_type": "markdown",
   "metadata": {},
   "source": [
    "# Q-Q plot "
   ]
  },
  {
   "cell_type": "markdown",
   "metadata": {},
   "source": [
    "### This plot will help us determine if our data data features are normally distributed "
   ]
  },
  {
   "cell_type": "code",
   "execution_count": 55,
   "metadata": {},
   "outputs": [],
   "source": [
    "# Let plot this thing mec....\n",
    "import scipy.stats as stats\n",
    "import  pylab\n",
    "\n",
    "    "
   ]
  },
  {
   "cell_type": "code",
   "execution_count": 56,
   "metadata": {},
   "outputs": [],
   "source": [
    "def curve_plot(data,feature):\n",
    "    plt.figure(figsize=(10,6))\n",
    "    plt.subplot(1,2,1)\n",
    "    sn.histplot(data[feature],kde=True)\n",
    "    plt.subplot(1,2,2)\n",
    "    stats.probplot(data[feature],dist='norm',plot=pylab)\n",
    "    plt.title(feature)\n",
    "    plt.show()"
   ]
  },
  {
   "cell_type": "code",
   "execution_count": 57,
   "metadata": {},
   "outputs": [
    {
     "data": {
      "image/png": "[encoded data removed]",
      "text/plain": [
       "<Figure size 720x432 with 2 Axes>"
      ]
     },
     "metadata": {
      "needs_background": "light"
     },
     "output_type": "display_data"
    },
    {
     "data": {
      "image/png": "[encoded data removed]",
      "text/plain": [
       "<Figure size 720x432 with 2 Axes>"
      ]
     },
     "metadata": {
      "needs_background": "light"
     },
     "output_type": "display_data"
    },
    {
     "data": {
      "image/png": "[encoded data removed]",
      "text/plain": [
       "<Figure size 720x432 with 2 Axes>"
      ]
     },
     "metadata": {
      "needs_background": "light"
     },
     "output_type": "display_data"
    },
    {
     "data": {
      "image/png": "[encoded data removed]",
      "text/plain": [
       "<Figure size 720x432 with 2 Axes>"
      ]
     },
     "metadata": {
      "needs_background": "light"
     },
     "output_type": "display_data"
    },
    {
     "data": {
      "image/png": "[encoded data removed]",
      "text/plain": [
       "<Figure size 720x432 with 2 Axes>"
      ]
     },
     "metadata": {
      "needs_background": "light"
     },
     "output_type": "display_data"
    },
    {
     "data": {
      "image/png": "[encoded data removed]",
      "text/plain": [
       "<Figure size 720x432 with 2 Axes>"
      ]
     },
     "metadata": {
      "needs_background": "light"
     },
     "output_type": "display_data"
    },
    {
     "data": {
      "image/png": "[encoded data removed]",
      "text/plain": [
       "<Figure size 720x432 with 2 Axes>"
      ]
     },
     "metadata": {
      "needs_background": "light"
     },
     "output_type": "display_data"
    },
    {
     "data": {
      "image/png": "[encoded data removed]",
      "text/plain": [
       "<Figure size 720x432 with 2 Axes>"
      ]
     },
     "metadata": {
      "needs_background": "light"
     },
     "output_type": "display_data"
    },
    {
     "data": {
      "image/png": "[encoded data removed]",
      "text/plain": [
       "<Figure size 720x432 with 2 Axes>"
      ]
     },
     "metadata": {
      "needs_background": "light"
     },
     "output_type": "display_data"
    },
    {
     "data": {
      "image/png": "[encoded data removed]",
      "text/plain": [
       "<Figure size 720x432 with 2 Axes>"
      ]
     },
     "metadata": {
      "needs_background": "light"
     },
     "output_type": "display_data"
    },
    {
     "data": {
      "image/png": "[encoded data removed]",
      "text/plain": [
       "<Figure size 720x432 with 2 Axes>"
      ]
     },
     "metadata": {
      "needs_background": "light"
     },
     "output_type": "display_data"
    },
    {
     "data": {
      "image/png": "[encoded data removed]",
      "text/plain": [
       "<Figure size 720x432 with 2 Axes>"
      ]
     },
     "metadata": {
      "needs_background": "light"
     },
     "output_type": "display_data"
    },
    {
     "data": {
      "image/png": "[encoded data removed]",
      "text/plain": [
       "<Figure size 720x432 with 2 Axes>"
      ]
     },
     "metadata": {
      "needs_background": "light"
     },
     "output_type": "display_data"
    },
    {
     "data": {
      "image/png": "[encoded data removed]",
      "text/plain": [
       "<Figure size 720x432 with 2 Axes>"
      ]
     },
     "metadata": {
      "needs_background": "light"
     },
     "output_type": "display_data"
    }
   ],
   "source": [
    "for  feature in continous_feature:\n",
    "    curve_plot(data,feature)"
   ]
  },
  {
   "cell_type": "markdown",
   "metadata": {},
   "source": [
    "hmmm, nice one mec.... we have finally approach the model creation stage. \n",
    "let try to seprate our dependent and independent data."
   ]
  },
  {
   "cell_type": "code",
   "execution_count": 58,
   "metadata": {},
   "outputs": [],
   "source": [
    "y = data['RainTomorrow']\n",
    "x = data.drop(['RainTomorrow'],axis=1)"
   ]
  },
  {
   "cell_type": "markdown",
   "metadata": {},
   "source": [
    "let us scale Tranform our independent data."
   ]
  },
  {
   "cell_type": "code",
   "execution_count": 59,
   "metadata": {},
   "outputs": [],
   "source": [
    "from sklearn.preprocessing import StandardScaler"
   ]
  },
  {
   "cell_type": "code",
   "execution_count": 60,
   "metadata": {},
   "outputs": [
    {
     "data": {
      "text/plain": [
       "StandardScaler()"
      ]
     },
     "execution_count": 60,
     "metadata": {},
     "output_type": "execute_result"
    }
   ],
   "source": [
    "scale = StandardScaler()\n",
    "scale.fit(x)"
   ]
  },
  {
   "cell_type": "code",
   "execution_count": 61,
   "metadata": {},
   "outputs": [
    {
     "data": {
      "text/plain": [
       "array([[ 4.15016669e-01,  1.89446615e-01, -4.53363105e-02, ...,\n",
       "        -5.29795450e-01, -1.67284386e+00,  1.63407550e+00],\n",
       "       [ 4.15016669e-01, -7.53100728e-01,  2.65043084e-01, ...,\n",
       "        -5.29795450e-01, -1.55913977e+00,  1.63407550e+00],\n",
       "       [ 4.15016669e-01,  1.10901003e-01,  3.49692009e-01, ...,\n",
       "        -5.29795450e-01, -1.44543568e+00,  1.63407550e+00],\n",
       "       ...,\n",
       "       [ 1.79593061e+00, -1.06728318e+00,  5.18989861e-01, ...,\n",
       "        -5.29795450e-01,  8.28646104e-01, -1.16599324e-01],\n",
       "       [ 1.79593061e+00, -6.90264238e-01,  5.33098015e-01, ...,\n",
       "        -5.29795450e-01,  9.42350194e-01, -1.16599324e-01],\n",
       "       [ 1.79593061e+00,  4.25083451e-01,  2.10513377e-14, ...,\n",
       "        -5.29795450e-01,  1.05605428e+00, -1.16599324e-01]])"
      ]
     },
     "execution_count": 61,
     "metadata": {},
     "output_type": "execute_result"
    }
   ],
   "source": [
    "X = scale.transform(x)\n",
    "X             "
   ]
  },
  {
   "cell_type": "code",
   "execution_count": 62,
   "metadata": {},
   "outputs": [],
   "source": [
    "X = pd.DataFrame(data=X,columns=x.columns)"
   ]
  },
  {
   "cell_type": "code",
   "execution_count": 63,
   "metadata": {},
   "outputs": [
    {
     "data": {
      "text/html": [
       "<div>\n",
       "<style scoped>\n",
       "    .dataframe tbody tr th:only-of-type {\n",
       "        vertical-align: middle;\n",
       "    }\n",
       "\n",
       "    .dataframe tbody tr th {\n",
       "        vertical-align: top;\n",
       "    }\n",
       "\n",
       "    .dataframe thead th {\n",
       "        text-align: right;\n",
       "    }\n",
       "</style>\n",
       "<table border=\"1\" class=\"dataframe\">\n",
       "  <thead>\n",
       "    <tr style=\"text-align: right;\">\n",
       "      <th></th>\n",
       "      <th>Location</th>\n",
       "      <th>MinTemp</th>\n",
       "      <th>MaxTemp</th>\n",
       "      <th>Rainfall</th>\n",
       "      <th>Evaporation</th>\n",
       "      <th>Sunshine</th>\n",
       "      <th>WindGustDir</th>\n",
       "      <th>WindGustSpeed</th>\n",
       "      <th>WindDir9am</th>\n",
       "      <th>WindDir3pm</th>\n",
       "      <th>WindSpeed9am</th>\n",
       "      <th>WindSpeed3pm</th>\n",
       "      <th>Humidity9am</th>\n",
       "      <th>Humidity3pm</th>\n",
       "      <th>Pressure9am</th>\n",
       "      <th>Pressure3pm</th>\n",
       "      <th>Cloud9am</th>\n",
       "      <th>Cloud3pm</th>\n",
       "      <th>Temp9am</th>\n",
       "      <th>Temp3pm</th>\n",
       "      <th>RainToday</th>\n",
       "      <th>date_day</th>\n",
       "      <th>date_month</th>\n",
       "    </tr>\n",
       "  </thead>\n",
       "  <tbody>\n",
       "    <tr>\n",
       "      <th>0</th>\n",
       "      <td>0.415017</td>\n",
       "      <td>0.189447</td>\n",
       "      <td>-0.045336</td>\n",
       "      <td>-0.210072</td>\n",
       "      <td>-0.727927</td>\n",
       "      <td>0.182347</td>\n",
       "      <td>-0.740424</td>\n",
       "      <td>0.302234</td>\n",
       "      <td>-0.406066</td>\n",
       "      <td>-1.024910</td>\n",
       "      <td>0.672222</td>\n",
       "      <td>0.612323</td>\n",
       "      <td>0.112395</td>\n",
       "      <td>-1.442965</td>\n",
       "      <td>-1.478788</td>\n",
       "      <td>-1.223882</td>\n",
       "      <td>1.230562</td>\n",
       "      <td>-1.657694</td>\n",
       "      <td>-0.014053</td>\n",
       "      <td>0.017023</td>\n",
       "      <td>-0.529795</td>\n",
       "      <td>-1.672844</td>\n",
       "      <td>1.634076</td>\n",
       "    </tr>\n",
       "    <tr>\n",
       "      <th>1</th>\n",
       "      <td>0.415017</td>\n",
       "      <td>-0.753101</td>\n",
       "      <td>0.265043</td>\n",
       "      <td>-0.281650</td>\n",
       "      <td>-0.442930</td>\n",
       "      <td>0.631373</td>\n",
       "      <td>-1.187566</td>\n",
       "      <td>0.302234</td>\n",
       "      <td>-1.439618</td>\n",
       "      <td>-0.357114</td>\n",
       "      <td>-1.133438</td>\n",
       "      <td>0.382874</td>\n",
       "      <td>-1.319609</td>\n",
       "      <td>-1.296417</td>\n",
       "      <td>-1.047782</td>\n",
       "      <td>-1.118839</td>\n",
       "      <td>0.884261</td>\n",
       "      <td>-1.289981</td>\n",
       "      <td>0.032464</td>\n",
       "      <td>0.381985</td>\n",
       "      <td>-0.529795</td>\n",
       "      <td>-1.559140</td>\n",
       "      <td>1.634076</td>\n",
       "    </tr>\n",
       "    <tr>\n",
       "      <th>2</th>\n",
       "      <td>0.415017</td>\n",
       "      <td>0.110901</td>\n",
       "      <td>0.349692</td>\n",
       "      <td>-0.281650</td>\n",
       "      <td>-0.680427</td>\n",
       "      <td>-0.847773</td>\n",
       "      <td>-0.516853</td>\n",
       "      <td>0.454694</td>\n",
       "      <td>-0.406066</td>\n",
       "      <td>-0.357114</td>\n",
       "      <td>0.559368</td>\n",
       "      <td>0.841771</td>\n",
       "      <td>-1.637832</td>\n",
       "      <td>-1.052171</td>\n",
       "      <td>-1.493650</td>\n",
       "      <td>-0.983784</td>\n",
       "      <td>1.230562</td>\n",
       "      <td>-0.922267</td>\n",
       "      <td>0.621685</td>\n",
       "      <td>0.221402</td>\n",
       "      <td>-0.529795</td>\n",
       "      <td>-1.445436</td>\n",
       "      <td>1.634076</td>\n",
       "    </tr>\n",
       "    <tr>\n",
       "      <th>3</th>\n",
       "      <td>0.415017</td>\n",
       "      <td>-0.470337</td>\n",
       "      <td>0.674180</td>\n",
       "      <td>-0.281650</td>\n",
       "      <td>3.072032</td>\n",
       "      <td>0.340827</td>\n",
       "      <td>0.824574</td>\n",
       "      <td>-1.222364</td>\n",
       "      <td>1.247616</td>\n",
       "      <td>1.423675</td>\n",
       "      <td>-0.343462</td>\n",
       "      <td>-1.108541</td>\n",
       "      <td>-1.266572</td>\n",
       "      <td>-1.736061</td>\n",
       "      <td>-0.007422</td>\n",
       "      <td>-0.368534</td>\n",
       "      <td>-1.539848</td>\n",
       "      <td>0.180874</td>\n",
       "      <td>0.172017</td>\n",
       "      <td>0.703151</td>\n",
       "      <td>-0.529795</td>\n",
       "      <td>-1.331732</td>\n",
       "      <td>1.634076</td>\n",
       "    </tr>\n",
       "    <tr>\n",
       "      <th>4</th>\n",
       "      <td>0.415017</td>\n",
       "      <td>0.833521</td>\n",
       "      <td>1.280830</td>\n",
       "      <td>-0.162353</td>\n",
       "      <td>-0.015435</td>\n",
       "      <td>-1.217559</td>\n",
       "      <td>-0.740424</td>\n",
       "      <td>0.073544</td>\n",
       "      <td>1.040905</td>\n",
       "      <td>-1.692706</td>\n",
       "      <td>-0.794877</td>\n",
       "      <td>0.153426</td>\n",
       "      <td>0.695804</td>\n",
       "      <td>-0.905623</td>\n",
       "      <td>-1.018057</td>\n",
       "      <td>-1.388949</td>\n",
       "      <td>0.884261</td>\n",
       "      <td>1.284015</td>\n",
       "      <td>0.125499</td>\n",
       "      <td>1.170302</td>\n",
       "      <td>-0.529795</td>\n",
       "      <td>-1.218028</td>\n",
       "      <td>1.634076</td>\n",
       "    </tr>\n",
       "  </tbody>\n",
       "</table>\n",
       "</div>"
      ],
      "text/plain": [
       "   Location   MinTemp   MaxTemp  Rainfall  Evaporation  Sunshine  WindGustDir  \\\n",
       "0  0.415017  0.189447 -0.045336 -0.210072    -0.727927  0.182347    -0.740424   \n",
       "1  0.415017 -0.753101  0.265043 -0.281650    -0.442930  0.631373    -1.187566   \n",
       "2  0.415017  0.110901  0.349692 -0.281650    -0.680427 -0.847773    -0.516853   \n",
       "3  0.415017 -0.470337  0.674180 -0.281650     3.072032  0.340827     0.824574   \n",
       "4  0.415017  0.833521  1.280830 -0.162353    -0.015435 -1.217559    -0.740424   \n",
       "\n",
       "   WindGustSpeed  WindDir9am  WindDir3pm  WindSpeed9am  WindSpeed3pm  \\\n",
       "0       0.302234   -0.406066   -1.024910      0.672222      0.612323   \n",
       "1       0.302234   -1.439618   -0.357114     -1.133438      0.382874   \n",
       "2       0.454694   -0.406066   -0.357114      0.559368      0.841771   \n",
       "3      -1.222364    1.247616    1.423675     -0.343462     -1.108541   \n",
       "4       0.073544    1.040905   -1.692706     -0.794877      0.153426   \n",
       "\n",
       "   Humidity9am  Humidity3pm  Pressure9am  Pressure3pm  Cloud9am  Cloud3pm  \\\n",
       "0     0.112395    -1.442965    -1.478788    -1.223882  1.230562 -1.657694   \n",
       "1    -1.319609    -1.296417    -1.047782    -1.118839  0.884261 -1.289981   \n",
       "2    -1.637832    -1.052171    -1.493650    -0.983784  1.230562 -0.922267   \n",
       "3    -1.266572    -1.736061    -0.007422    -0.368534 -1.539848  0.180874   \n",
       "4     0.695804    -0.905623    -1.018057    -1.388949  0.884261  1.284015   \n",
       "\n",
       "    Temp9am   Temp3pm  RainToday  date_day  date_month  \n",
       "0 -0.014053  0.017023  -0.529795 -1.672844    1.634076  \n",
       "1  0.032464  0.381985  -0.529795 -1.559140    1.634076  \n",
       "2  0.621685  0.221402  -0.529795 -1.445436    1.634076  \n",
       "3  0.172017  0.703151  -0.529795 -1.331732    1.634076  \n",
       "4  0.125499  1.170302  -0.529795 -1.218028    1.634076  "
      ]
     },
     "execution_count": 63,
     "metadata": {},
     "output_type": "execute_result"
    }
   ],
   "source": [
    "X.head()"
   ]
  },
  {
   "cell_type": "markdown",
   "metadata": {},
   "source": [
    "# Model creation "
   ]
  },
  {
   "cell_type": "markdown",
   "metadata": {},
   "source": [
    "we have reach a point that we will split our datas to training, validation and test set and we will also run using different classification models like.\n",
    "* RandomForest\n",
    "* XGBost\n",
    "* KNeighborsClasssifier\n",
    "* GaussianNB\n",
    "* CatBoost"
   ]
  },
  {
   "cell_type": "markdown",
   "metadata": {},
   "source": [
    "first we will split our data to training, testing,"
   ]
  },
  {
   "cell_type": "code",
   "execution_count": 64,
   "metadata": {},
   "outputs": [],
   "source": [
    "from sklearn.model_selection import train_test_split"
   ]
  },
  {
   "cell_type": "markdown",
   "metadata": {},
   "source": [
    "making training and testing data....."
   ]
  },
  {
   "cell_type": "code",
   "execution_count": 65,
   "metadata": {},
   "outputs": [],
   "source": [
    "X_train, X_test, y_train, y_test = train_test_split(X, y, test_size=0.2, random_state=42)"
   ]
  },
  {
   "cell_type": "markdown",
   "metadata": {},
   "source": [
    "making train and validation data..."
   ]
  },
  {
   "cell_type": "code",
   "execution_count": 67,
   "metadata": {},
   "outputs": [],
   "source": [
    "X_train, X_val, y_train, y_val = train_test_split(X_train, y_train, test_size=0.2, random_state=42)"
   ]
  },
  {
   "cell_type": "markdown",
   "metadata": {},
   "source": [
    "## Using RandomForest Classifier"
   ]
  },
  {
   "cell_type": "code",
   "execution_count": 68,
   "metadata": {},
   "outputs": [],
   "source": [
    "from sklearn.ensemble import RandomForestClassifier\n",
    "RF = RandomForestClassifier(n_estimators=300, random_state=42, n_jobs=-1)"
   ]
  },
  {
   "cell_type": "markdown",
   "metadata": {},
   "source": [
    "let define a function for the fitting and prediction of our models "
   ]
  },
  {
   "cell_type": "code",
   "execution_count": 69,
   "metadata": {},
   "outputs": [],
   "source": [
    "def fit_predict(model,X_train,y_train,X_test):\n",
    "    model.fit(X_train,y_train)\n",
    "    return model.predict(X_test)"
   ]
  },
  {
   "cell_type": "code",
   "execution_count": 70,
   "metadata": {},
   "outputs": [],
   "source": [
    "y_pred = fit_predict(RF,X_train,y_train,X_test)"
   ]
  },
  {
   "cell_type": "code",
   "execution_count": 71,
   "metadata": {},
   "outputs": [],
   "source": [
    "from sklearn.metrics import confusion_matrix,accuracy_score,classification_report"
   ]
  },
  {
   "cell_type": "markdown",
   "metadata": {},
   "source": [
    "#### Let create a metrics function\n"
   ]
  },
  {
   "cell_type": "code",
   "execution_count": 72,
   "metadata": {},
   "outputs": [],
   "source": [
    "def metrics_function(y_test,y_pred,model=RF,test_data=X_test):    \n",
    "    print(confusion_matrix(y_test,y_pred))\n",
    "    print('the accuracy of this RF model is {} %'.format(accuracy_score(y_test,y_pred)* 100))\n",
    "    print(classification_report(y_test,y_pred))\n",
    "    metrics.plot_roc_curve(model,test_data,y_test)"
   ]
  },
  {
   "cell_type": "code",
   "execution_count": 73,
   "metadata": {},
   "outputs": [
    {
     "name": "stdout",
     "output_type": "stream",
     "text": [
      "[[21688   984]\n",
      " [ 3365  3055]]\n",
      "the accuracy of this RF model is 85.05087309225904 %\n",
      "              precision    recall  f1-score   support\n",
      "\n",
      "           0       0.87      0.96      0.91     22672\n",
      "           1       0.76      0.48      0.58      6420\n",
      "\n",
      "    accuracy                           0.85     29092\n",
      "   macro avg       0.81      0.72      0.75     29092\n",
      "weighted avg       0.84      0.85      0.84     29092\n",
      "\n"
     ]
    },
    {
     "name": "stderr",
     "output_type": "stream",
     "text": [
      "C:\\Users\\ABDULBASIT\\anaconda3\\envs\\mec\\lib\\site-packages\\sklearn\\utils\\deprecation.py:87: FutureWarning: Function plot_roc_curve is deprecated; Function :func:`plot_roc_curve` is deprecated in 1.0 and will be removed in 1.2. Use one of the class methods: :meth:`sklearn.metric.RocCurveDisplay.from_predictions` or :meth:`sklearn.metric.RocCurveDisplay.from_estimator`.\n",
      "  warnings.warn(msg, category=FutureWarning)\n"
     ]
    },
    {
     "data": {
      "image/png": "[encoded data removed]",
      "text/plain": [
       "<Figure size 432x288 with 1 Axes>"
      ]
     },
     "metadata": {
      "needs_background": "light"
     },
     "output_type": "display_data"
    }
   ],
   "source": [
    "metrics_function(y_test,y_pred,model=RF,test_data=X_test)"
   ]
  },
  {
   "cell_type": "markdown",
   "metadata": {},
   "source": [
    "## Using Gaussian Naive bayes(GNB)"
   ]
  },
  {
   "cell_type": "markdown",
   "metadata": {},
   "source": [
    "### the first question is why are we not using classical naive bayes...\n",
    "\n",
    "*the reason is because Classical naive bayes is good when working on categorical data... and Gaussian naive bayes is good for continous data*"
   ]
  },
  {
   "cell_type": "code",
   "execution_count": 74,
   "metadata": {},
   "outputs": [],
   "source": [
    "# importing library\n",
    "from sklearn.naive_bayes import  GaussianNB\n",
    "\n",
    "GNB = GaussianNB()\n"
   ]
  },
  {
   "cell_type": "code",
   "execution_count": 75,
   "metadata": {},
   "outputs": [],
   "source": [
    "y_pred = fit_predict(GNB,X_train,y_train,X_test)"
   ]
  },
  {
   "cell_type": "code",
   "execution_count": 76,
   "metadata": {},
   "outputs": [
    {
     "name": "stdout",
     "output_type": "stream",
     "text": [
      "[[19772  2900]\n",
      " [ 2743  3677]]\n",
      "the accuracy of this RF model is 80.60291489069161 %\n",
      "              precision    recall  f1-score   support\n",
      "\n",
      "           0       0.88      0.87      0.88     22672\n",
      "           1       0.56      0.57      0.57      6420\n",
      "\n",
      "    accuracy                           0.81     29092\n",
      "   macro avg       0.72      0.72      0.72     29092\n",
      "weighted avg       0.81      0.81      0.81     29092\n",
      "\n"
     ]
    },
    {
     "name": "stderr",
     "output_type": "stream",
     "text": [
      "C:\\Users\\ABDULBASIT\\anaconda3\\envs\\mec\\lib\\site-packages\\sklearn\\utils\\deprecation.py:87: FutureWarning: Function plot_roc_curve is deprecated; Function :func:`plot_roc_curve` is deprecated in 1.0 and will be removed in 1.2. Use one of the class methods: :meth:`sklearn.metric.RocCurveDisplay.from_predictions` or :meth:`sklearn.metric.RocCurveDisplay.from_estimator`.\n",
      "  warnings.warn(msg, category=FutureWarning)\n"
     ]
    },
    {
     "data": {
      "image/png": "[encoded data removed]",
      "text/plain": [
       "<Figure size 432x288 with 1 Axes>"
      ]
     },
     "metadata": {
      "needs_background": "light"
     },
     "output_type": "display_data"
    }
   ],
   "source": [
    "metrics_function(y_test,y_pred,model=GNB,test_data=X_test)"
   ]
  },
  {
   "cell_type": "markdown",
   "metadata": {},
   "source": [
    "### K-Nearest-Neighbors classifier(KNN)"
   ]
  },
  {
   "cell_type": "code",
   "execution_count": 77,
   "metadata": {},
   "outputs": [],
   "source": [
    "from sklearn.neighbors import KNeighborsClassifier"
   ]
  },
  {
   "cell_type": "code",
   "execution_count": 78,
   "metadata": {},
   "outputs": [],
   "source": [
    "KNN = KNeighborsClassifier(n_neighbors=3)\n",
    "# note that we have to do gridsearch or loops to know the best n_neighbors to give this but here we will just give it 3"
   ]
  },
  {
   "cell_type": "code",
   "execution_count": 79,
   "metadata": {},
   "outputs": [],
   "source": [
    "y_pred = fit_predict(KNN,X_train,y_train,X_test)"
   ]
  },
  {
   "cell_type": "code",
   "execution_count": 80,
   "metadata": {},
   "outputs": [
    {
     "name": "stdout",
     "output_type": "stream",
     "text": [
      "[[20859  1813]\n",
      " [ 3418  3002]]\n",
      "the accuracy of this RF model is 82.01911178330813 %\n",
      "              precision    recall  f1-score   support\n",
      "\n",
      "           0       0.86      0.92      0.89     22672\n",
      "           1       0.62      0.47      0.53      6420\n",
      "\n",
      "    accuracy                           0.82     29092\n",
      "   macro avg       0.74      0.69      0.71     29092\n",
      "weighted avg       0.81      0.82      0.81     29092\n",
      "\n"
     ]
    },
    {
     "name": "stderr",
     "output_type": "stream",
     "text": [
      "C:\\Users\\ABDULBASIT\\anaconda3\\envs\\mec\\lib\\site-packages\\sklearn\\utils\\deprecation.py:87: FutureWarning: Function plot_roc_curve is deprecated; Function :func:`plot_roc_curve` is deprecated in 1.0 and will be removed in 1.2. Use one of the class methods: :meth:`sklearn.metric.RocCurveDisplay.from_predictions` or :meth:`sklearn.metric.RocCurveDisplay.from_estimator`.\n",
      "  warnings.warn(msg, category=FutureWarning)\n"
     ]
    },
    {
     "data": {
      "image/png": "[encoded data removed]",
      "text/plain": [
       "<Figure size 432x288 with 1 Axes>"
      ]
     },
     "metadata": {
      "needs_background": "light"
     },
     "output_type": "display_data"
    }
   ],
   "source": [
    "metrics_function(y_test,y_pred,model=KNN,test_data=X_test)"
   ]
  },
  {
   "cell_type": "markdown",
   "metadata": {},
   "source": [
    "### XGBoost(XGB) gradient boosting technique"
   ]
  },
  {
   "cell_type": "code",
   "execution_count": 81,
   "metadata": {},
   "outputs": [],
   "source": [
    "# importing  library\n",
    "from xgboost import XGBClassifier\n"
   ]
  },
  {
   "cell_type": "code",
   "execution_count": 82,
   "metadata": {},
   "outputs": [],
   "source": [
    "XGB = XGBClassifier()\n",
    "y_pred = fit_predict(XGB,X_train,y_train,X_test)"
   ]
  },
  {
   "cell_type": "code",
   "execution_count": 83,
   "metadata": {},
   "outputs": [
    {
     "name": "stdout",
     "output_type": "stream",
     "text": [
      "[[21509  1163]\n",
      " [ 2986  3434]]\n",
      "the accuracy of this RF model is 85.7383473119758 %\n",
      "              precision    recall  f1-score   support\n",
      "\n",
      "           0       0.88      0.95      0.91     22672\n",
      "           1       0.75      0.53      0.62      6420\n",
      "\n",
      "    accuracy                           0.86     29092\n",
      "   macro avg       0.81      0.74      0.77     29092\n",
      "weighted avg       0.85      0.86      0.85     29092\n",
      "\n"
     ]
    },
    {
     "name": "stderr",
     "output_type": "stream",
     "text": [
      "C:\\Users\\ABDULBASIT\\anaconda3\\envs\\mec\\lib\\site-packages\\sklearn\\utils\\deprecation.py:87: FutureWarning: Function plot_roc_curve is deprecated; Function :func:`plot_roc_curve` is deprecated in 1.0 and will be removed in 1.2. Use one of the class methods: :meth:`sklearn.metric.RocCurveDisplay.from_predictions` or :meth:`sklearn.metric.RocCurveDisplay.from_estimator`.\n",
      "  warnings.warn(msg, category=FutureWarning)\n"
     ]
    },
    {
     "data": {
      "image/png": "[encoded data removed]",
      "text/plain": [
       "<Figure size 432x288 with 1 Axes>"
      ]
     },
     "metadata": {
      "needs_background": "light"
     },
     "output_type": "display_data"
    }
   ],
   "source": [
    "metrics_function(y_test,y_pred,XGB)"
   ]
  },
  {
   "cell_type": "markdown",
   "metadata": {},
   "source": [
    "WOW so far, XGBoost is the topping model for this problem.... let see what our last model will do, "
   ]
  },
  {
   "cell_type": "code",
   "execution_count": 86,
   "metadata": {},
   "outputs": [],
   "source": [
    "# importing library\n",
    "from catboost import CatBoostClassifier"
   ]
  },
  {
   "cell_type": "code",
   "execution_count": 87,
   "metadata": {},
   "outputs": [
    {
     "data": {
      "text/plain": [
       "array([], dtype=int64)"
      ]
     },
     "execution_count": 87,
     "metadata": {},
     "output_type": "execute_result"
    }
   ],
   "source": [
    "# getting the categorical features \n",
    "cat_feature = np.where(X_train.dtypes != np.float64)[0]\n",
    "cat_feature"
   ]
  },
  {
   "cell_type": "markdown",
   "metadata": {},
   "source": []
  },
  {
   "cell_type": "code",
   "execution_count": 101,
   "metadata": {},
   "outputs": [],
   "source": [
    "CB = CatBoostClassifier(iterations=5000,cat_features=cat_feature,use_best_model=True,train_dir='rain_prediction_fold',early_stopping_rounds=20)"
   ]
  },
  {
   "cell_type": "code",
   "execution_count": 102,
   "metadata": {},
   "outputs": [
    {
     "name": "stderr",
     "output_type": "stream",
     "text": [
      "Enabling notebook extension jupyter-js-widgets/extension...\n",
      "      - Validating: ok\n"
     ]
    },
    {
     "data": {
      "application/vnd.jupyter.widget-view+json": {
       "model_id": "0cfa7fa7772b4b749f61cbc2ce16ecf4",
       "version_major": 2,
       "version_minor": 0
      },
      "text/plain": [
       "MetricVisualizer(layout=Layout(align_self='stretch', height='500px'))"
      ]
     },
     "metadata": {},
     "output_type": "display_data"
    },
    {
     "name": "stdout",
     "output_type": "stream",
     "text": [
      "Learning rate set to 0.048215\n",
      "0:\tlearn: 0.6578195\ttest: 0.6579918\tbest: 0.6579918 (0)\ttotal: 95.8ms\tremaining: 7m 59s\n",
      "20:\tlearn: 0.4083814\ttest: 0.4100190\tbest: 0.4100190 (20)\ttotal: 1.62s\tremaining: 6m 24s\n",
      "40:\tlearn: 0.3720386\ttest: 0.3742746\tbest: 0.3742746 (40)\ttotal: 2.97s\tremaining: 5m 59s\n",
      "60:\tlearn: 0.3610940\ttest: 0.3637367\tbest: 0.3637367 (60)\ttotal: 4.36s\tremaining: 5m 52s\n",
      "80:\tlearn: 0.3553973\ttest: 0.3582234\tbest: 0.3582234 (80)\ttotal: 5.6s\tremaining: 5m 40s\n",
      "100:\tlearn: 0.3514146\ttest: 0.3544758\tbest: 0.3544758 (100)\ttotal: 7.1s\tremaining: 5m 44s\n",
      "120:\tlearn: 0.3484674\ttest: 0.3518462\tbest: 0.3518462 (120)\ttotal: 8.25s\tremaining: 5m 32s\n",
      "140:\tlearn: 0.3458039\ttest: 0.3495257\tbest: 0.3495257 (140)\ttotal: 9.42s\tremaining: 5m 24s\n",
      "160:\tlearn: 0.3436055\ttest: 0.3479353\tbest: 0.3479353 (160)\ttotal: 10.5s\tremaining: 5m 14s\n",
      "180:\tlearn: 0.3415033\ttest: 0.3462862\tbest: 0.3462862 (180)\ttotal: 11.8s\tremaining: 5m 14s\n",
      "200:\tlearn: 0.3393160\ttest: 0.3447053\tbest: 0.3447053 (200)\ttotal: 13.5s\tremaining: 5m 22s\n",
      "220:\tlearn: 0.3372947\ttest: 0.3431505\tbest: 0.3431505 (220)\ttotal: 15s\tremaining: 5m 23s\n",
      "240:\tlearn: 0.3353832\ttest: 0.3417028\tbest: 0.3417028 (240)\ttotal: 16.1s\tremaining: 5m 17s\n",
      "260:\tlearn: 0.3336302\ttest: 0.3404865\tbest: 0.3404865 (260)\ttotal: 17.4s\tremaining: 5m 15s\n",
      "280:\tlearn: 0.3316919\ttest: 0.3392442\tbest: 0.3392442 (280)\ttotal: 18.6s\tremaining: 5m 12s\n",
      "300:\tlearn: 0.3298432\ttest: 0.3381021\tbest: 0.3381021 (300)\ttotal: 19.8s\tremaining: 5m 8s\n",
      "320:\tlearn: 0.3281640\ttest: 0.3370183\tbest: 0.3370183 (320)\ttotal: 21s\tremaining: 5m 5s\n",
      "340:\tlearn: 0.3265891\ttest: 0.3362602\tbest: 0.3362602 (340)\ttotal: 22.9s\tremaining: 5m 13s\n",
      "360:\tlearn: 0.3250137\ttest: 0.3353626\tbest: 0.3353626 (360)\ttotal: 24.1s\tremaining: 5m 10s\n",
      "380:\tlearn: 0.3234884\ttest: 0.3345977\tbest: 0.3345977 (380)\ttotal: 25.7s\tremaining: 5m 12s\n",
      "400:\tlearn: 0.3220077\ttest: 0.3338091\tbest: 0.3338091 (400)\ttotal: 26.9s\tremaining: 5m 8s\n",
      "420:\tlearn: 0.3205574\ttest: 0.3330318\tbest: 0.3330318 (420)\ttotal: 28s\tremaining: 5m 4s\n",
      "440:\tlearn: 0.3192674\ttest: 0.3325471\tbest: 0.3325471 (440)\ttotal: 29.2s\tremaining: 5m 2s\n",
      "460:\tlearn: 0.3179205\ttest: 0.3319987\tbest: 0.3319987 (460)\ttotal: 30.3s\tremaining: 4m 58s\n",
      "480:\tlearn: 0.3165848\ttest: 0.3313385\tbest: 0.3313385 (480)\ttotal: 31.6s\tremaining: 4m 57s\n",
      "500:\tlearn: 0.3152581\ttest: 0.3306663\tbest: 0.3306663 (500)\ttotal: 32.8s\tremaining: 4m 54s\n",
      "520:\tlearn: 0.3140264\ttest: 0.3301258\tbest: 0.3301238 (519)\ttotal: 34s\tremaining: 4m 52s\n",
      "540:\tlearn: 0.3129563\ttest: 0.3297458\tbest: 0.3297458 (540)\ttotal: 35.5s\tremaining: 4m 52s\n",
      "560:\tlearn: 0.3117416\ttest: 0.3292910\tbest: 0.3292910 (560)\ttotal: 36.7s\tremaining: 4m 50s\n",
      "580:\tlearn: 0.3105911\ttest: 0.3287945\tbest: 0.3287945 (580)\ttotal: 38.3s\tremaining: 4m 51s\n",
      "600:\tlearn: 0.3094072\ttest: 0.3283477\tbest: 0.3283477 (600)\ttotal: 40.3s\tremaining: 4m 55s\n",
      "620:\tlearn: 0.3082913\ttest: 0.3280331\tbest: 0.3280331 (620)\ttotal: 41.3s\tremaining: 4m 51s\n",
      "640:\tlearn: 0.3070581\ttest: 0.3276370\tbest: 0.3276370 (640)\ttotal: 42.1s\tremaining: 4m 46s\n",
      "660:\tlearn: 0.3059559\ttest: 0.3273310\tbest: 0.3273310 (660)\ttotal: 44s\tremaining: 4m 48s\n",
      "680:\tlearn: 0.3049161\ttest: 0.3269789\tbest: 0.3269789 (680)\ttotal: 45.2s\tremaining: 4m 46s\n",
      "700:\tlearn: 0.3038930\ttest: 0.3267655\tbest: 0.3267655 (700)\ttotal: 46.3s\tremaining: 4m 43s\n",
      "720:\tlearn: 0.3029443\ttest: 0.3264365\tbest: 0.3264365 (720)\ttotal: 47.4s\tremaining: 4m 41s\n",
      "740:\tlearn: 0.3018863\ttest: 0.3260589\tbest: 0.3260589 (740)\ttotal: 48.3s\tremaining: 4m 37s\n",
      "760:\tlearn: 0.3008709\ttest: 0.3257981\tbest: 0.3257981 (760)\ttotal: 49.3s\tremaining: 4m 34s\n",
      "780:\tlearn: 0.2999181\ttest: 0.3255980\tbest: 0.3255980 (780)\ttotal: 50.3s\tremaining: 4m 31s\n",
      "800:\tlearn: 0.2989125\ttest: 0.3252071\tbest: 0.3252044 (799)\ttotal: 51.1s\tremaining: 4m 28s\n",
      "820:\tlearn: 0.2979701\ttest: 0.3249689\tbest: 0.3249689 (820)\ttotal: 52s\tremaining: 4m 24s\n",
      "840:\tlearn: 0.2970453\ttest: 0.3247588\tbest: 0.3247588 (840)\ttotal: 52.7s\tremaining: 4m 20s\n",
      "860:\tlearn: 0.2961269\ttest: 0.3245844\tbest: 0.3245844 (860)\ttotal: 53.6s\tremaining: 4m 17s\n",
      "880:\tlearn: 0.2951965\ttest: 0.3243817\tbest: 0.3243817 (880)\ttotal: 54.4s\tremaining: 4m 14s\n",
      "900:\tlearn: 0.2943199\ttest: 0.3242000\tbest: 0.3242000 (900)\ttotal: 55.2s\tremaining: 4m 10s\n",
      "920:\tlearn: 0.2934581\ttest: 0.3239921\tbest: 0.3239921 (920)\ttotal: 55.9s\tremaining: 4m 7s\n",
      "940:\tlearn: 0.2925872\ttest: 0.3238074\tbest: 0.3238074 (940)\ttotal: 56.6s\tremaining: 4m 4s\n",
      "960:\tlearn: 0.2917404\ttest: 0.3235787\tbest: 0.3235694 (959)\ttotal: 57.4s\tremaining: 4m 1s\n",
      "980:\tlearn: 0.2908620\ttest: 0.3233008\tbest: 0.3233008 (980)\ttotal: 58.3s\tremaining: 3m 58s\n",
      "1000:\tlearn: 0.2900694\ttest: 0.3231114\tbest: 0.3231080 (999)\ttotal: 59.1s\tremaining: 3m 56s\n",
      "1020:\tlearn: 0.2892389\ttest: 0.3230240\tbest: 0.3230240 (1020)\ttotal: 59.9s\tremaining: 3m 53s\n",
      "1040:\tlearn: 0.2884709\ttest: 0.3228781\tbest: 0.3228781 (1040)\ttotal: 1m\tremaining: 3m 50s\n",
      "1060:\tlearn: 0.2876370\ttest: 0.3225958\tbest: 0.3225939 (1059)\ttotal: 1m 1s\tremaining: 3m 47s\n",
      "1080:\tlearn: 0.2869078\ttest: 0.3224684\tbest: 0.3224684 (1080)\ttotal: 1m 2s\tremaining: 3m 45s\n",
      "1100:\tlearn: 0.2861707\ttest: 0.3224450\tbest: 0.3224450 (1100)\ttotal: 1m 2s\tremaining: 3m 42s\n",
      "1120:\tlearn: 0.2853362\ttest: 0.3221654\tbest: 0.3221654 (1120)\ttotal: 1m 3s\tremaining: 3m 40s\n",
      "1140:\tlearn: 0.2845471\ttest: 0.3219549\tbest: 0.3219549 (1140)\ttotal: 1m 4s\tremaining: 3m 37s\n",
      "1160:\tlearn: 0.2836873\ttest: 0.3218116\tbest: 0.3218116 (1160)\ttotal: 1m 5s\tremaining: 3m 35s\n",
      "1180:\tlearn: 0.2829495\ttest: 0.3216285\tbest: 0.3216139 (1178)\ttotal: 1m 5s\tremaining: 3m 33s\n",
      "1200:\tlearn: 0.2821885\ttest: 0.3215039\tbest: 0.3214837 (1195)\ttotal: 1m 6s\tremaining: 3m 30s\n",
      "1220:\tlearn: 0.2814166\ttest: 0.3214096\tbest: 0.3213992 (1219)\ttotal: 1m 7s\tremaining: 3m 28s\n",
      "1240:\tlearn: 0.2806766\ttest: 0.3211840\tbest: 0.3211840 (1240)\ttotal: 1m 8s\tremaining: 3m 26s\n",
      "1260:\tlearn: 0.2798933\ttest: 0.3210325\tbest: 0.3210325 (1260)\ttotal: 1m 8s\tremaining: 3m 24s\n",
      "1280:\tlearn: 0.2792213\ttest: 0.3208612\tbest: 0.3208612 (1280)\ttotal: 1m 9s\tremaining: 3m 22s\n",
      "1300:\tlearn: 0.2784404\ttest: 0.3207170\tbest: 0.3207170 (1300)\ttotal: 1m 10s\tremaining: 3m 20s\n",
      "1320:\tlearn: 0.2776991\ttest: 0.3204987\tbest: 0.3204987 (1320)\ttotal: 1m 11s\tremaining: 3m 17s\n",
      "1340:\tlearn: 0.2770352\ttest: 0.3204456\tbest: 0.3204456 (1340)\ttotal: 1m 11s\tremaining: 3m 16s\n",
      "1360:\tlearn: 0.2763017\ttest: 0.3203230\tbest: 0.3203230 (1360)\ttotal: 1m 12s\tremaining: 3m 14s\n",
      "1380:\tlearn: 0.2756554\ttest: 0.3202068\tbest: 0.3201974 (1379)\ttotal: 1m 14s\tremaining: 3m 14s\n",
      "1400:\tlearn: 0.2749394\ttest: 0.3201701\tbest: 0.3201696 (1386)\ttotal: 1m 16s\tremaining: 3m 15s\n",
      "1420:\tlearn: 0.2742658\ttest: 0.3200884\tbest: 0.3200706 (1417)\ttotal: 1m 17s\tremaining: 3m 14s\n",
      "1440:\tlearn: 0.2735419\ttest: 0.3199974\tbest: 0.3199974 (1440)\ttotal: 1m 17s\tremaining: 3m 12s\n",
      "1460:\tlearn: 0.2728628\ttest: 0.3198565\tbest: 0.3198376 (1459)\ttotal: 1m 18s\tremaining: 3m 11s\n",
      "1480:\tlearn: 0.2721529\ttest: 0.3197900\tbest: 0.3197727 (1476)\ttotal: 1m 20s\tremaining: 3m 10s\n",
      "1500:\tlearn: 0.2714679\ttest: 0.3197091\tbest: 0.3197091 (1500)\ttotal: 1m 21s\tremaining: 3m 9s\n",
      "1520:\tlearn: 0.2707706\ttest: 0.3196107\tbest: 0.3196107 (1520)\ttotal: 1m 22s\tremaining: 3m 8s\n",
      "1540:\tlearn: 0.2700624\ttest: 0.3195879\tbest: 0.3195700 (1526)\ttotal: 1m 23s\tremaining: 3m 6s\n",
      "1560:\tlearn: 0.2693636\ttest: 0.3195275\tbest: 0.3195264 (1553)\ttotal: 1m 24s\tremaining: 3m 5s\n",
      "1580:\tlearn: 0.2687832\ttest: 0.3194225\tbest: 0.3194099 (1578)\ttotal: 1m 25s\tremaining: 3m 4s\n",
      "1600:\tlearn: 0.2681750\ttest: 0.3193649\tbest: 0.3193649 (1600)\ttotal: 1m 26s\tremaining: 3m 2s\n",
      "1620:\tlearn: 0.2674541\ttest: 0.3191902\tbest: 0.3191902 (1620)\ttotal: 1m 27s\tremaining: 3m 1s\n",
      "1640:\tlearn: 0.2667951\ttest: 0.3191085\tbest: 0.3190976 (1637)\ttotal: 1m 28s\tremaining: 3m\n",
      "1660:\tlearn: 0.2661411\ttest: 0.3191042\tbest: 0.3190738 (1654)\ttotal: 1m 29s\tremaining: 2m 59s\n",
      "1680:\tlearn: 0.2655001\ttest: 0.3190601\tbest: 0.3190596 (1679)\ttotal: 1m 30s\tremaining: 2m 58s\n",
      "1700:\tlearn: 0.2647959\ttest: 0.3189078\tbest: 0.3189051 (1699)\ttotal: 1m 31s\tremaining: 2m 56s\n",
      "1720:\tlearn: 0.2641975\ttest: 0.3188641\tbest: 0.3188641 (1720)\ttotal: 1m 32s\tremaining: 2m 55s\n",
      "1740:\tlearn: 0.2635590\ttest: 0.3188096\tbest: 0.3187923 (1737)\ttotal: 1m 32s\tremaining: 2m 53s\n",
      "1760:\tlearn: 0.2629381\ttest: 0.3187302\tbest: 0.3187302 (1760)\ttotal: 1m 33s\tremaining: 2m 52s\n",
      "1780:\tlearn: 0.2623268\ttest: 0.3186419\tbest: 0.3186377 (1779)\ttotal: 1m 34s\tremaining: 2m 51s\n",
      "1800:\tlearn: 0.2616825\ttest: 0.3185168\tbest: 0.3185159 (1796)\ttotal: 1m 35s\tremaining: 2m 49s\n",
      "1820:\tlearn: 0.2610901\ttest: 0.3184318\tbest: 0.3184318 (1820)\ttotal: 1m 36s\tremaining: 2m 48s\n",
      "1840:\tlearn: 0.2604396\ttest: 0.3183145\tbest: 0.3183145 (1840)\ttotal: 1m 37s\tremaining: 2m 47s\n",
      "1860:\tlearn: 0.2598245\ttest: 0.3182293\tbest: 0.3182293 (1860)\ttotal: 1m 38s\tremaining: 2m 45s\n",
      "1880:\tlearn: 0.2592324\ttest: 0.3181649\tbest: 0.3181649 (1880)\ttotal: 1m 39s\tremaining: 2m 44s\n",
      "1900:\tlearn: 0.2586736\ttest: 0.3180301\tbest: 0.3180301 (1900)\ttotal: 1m 39s\tremaining: 2m 42s\n",
      "1920:\tlearn: 0.2581184\ttest: 0.3179828\tbest: 0.3179805 (1919)\ttotal: 1m 40s\tremaining: 2m 41s\n",
      "1940:\tlearn: 0.2575365\ttest: 0.3179207\tbest: 0.3179207 (1940)\ttotal: 1m 41s\tremaining: 2m 40s\n",
      "1960:\tlearn: 0.2569138\ttest: 0.3178846\tbest: 0.3178827 (1959)\ttotal: 1m 42s\tremaining: 2m 38s\n",
      "1980:\tlearn: 0.2563453\ttest: 0.3178616\tbest: 0.3178603 (1979)\ttotal: 1m 43s\tremaining: 2m 37s\n",
      "2000:\tlearn: 0.2557574\ttest: 0.3178278\tbest: 0.3178167 (1995)\ttotal: 1m 44s\tremaining: 2m 36s\n",
      "2020:\tlearn: 0.2551991\ttest: 0.3178057\tbest: 0.3177995 (2015)\ttotal: 1m 44s\tremaining: 2m 34s\n",
      "2040:\tlearn: 0.2545913\ttest: 0.3177273\tbest: 0.3177166 (2036)\ttotal: 1m 45s\tremaining: 2m 33s\n",
      "2060:\tlearn: 0.2540385\ttest: 0.3176323\tbest: 0.3176323 (2060)\ttotal: 1m 46s\tremaining: 2m 31s\n",
      "2080:\tlearn: 0.2534140\ttest: 0.3175339\tbest: 0.3175339 (2080)\ttotal: 1m 47s\tremaining: 2m 30s\n",
      "2100:\tlearn: 0.2528421\ttest: 0.3174783\tbest: 0.3174783 (2100)\ttotal: 1m 48s\tremaining: 2m 29s\n",
      "2120:\tlearn: 0.2522503\ttest: 0.3174349\tbest: 0.3174349 (2120)\ttotal: 1m 48s\tremaining: 2m 27s\n",
      "2140:\tlearn: 0.2515770\ttest: 0.3173322\tbest: 0.3173322 (2140)\ttotal: 1m 49s\tremaining: 2m 26s\n",
      "2160:\tlearn: 0.2510161\ttest: 0.3172347\tbest: 0.3172347 (2160)\ttotal: 1m 50s\tremaining: 2m 25s\n",
      "2180:\tlearn: 0.2504270\ttest: 0.3172370\tbest: 0.3172347 (2160)\ttotal: 1m 51s\tremaining: 2m 23s\n",
      "Stopped by overfitting detector  (20 iterations wait)\n",
      "\n",
      "bestTest = 0.3172347057\n",
      "bestIteration = 2160\n",
      "\n",
      "Shrink model to first 2161 iterations.\n"
     ]
    },
    {
     "data": {
      "text/plain": [
       "<catboost.core.CatBoostClassifier at 0x2989114f970>"
      ]
     },
     "execution_count": 102,
     "metadata": {},
     "output_type": "execute_result"
    }
   ],
   "source": [
    "!jupyter nbextension enable --py widgetsnbextension\n",
    "CB.fit(X_train,y_train,cat_features=cat_feature,verbose=20,eval_set=(X_val,y_val),plot=True)"
   ]
  },
  {
   "cell_type": "markdown",
   "metadata": {},
   "source": []
  },
  {
   "cell_type": "code",
   "execution_count": 103,
   "metadata": {},
   "outputs": [],
   "source": [
    "y_pred = CB.predict(X_test)"
   ]
  },
  {
   "cell_type": "code",
   "execution_count": 104,
   "metadata": {},
   "outputs": [
    {
     "name": "stdout",
     "output_type": "stream",
     "text": [
      "[[21590  1082]\n",
      " [ 2955  3465]]\n",
      "the accuracy of this RF model is 86.12333287501718 %\n",
      "              precision    recall  f1-score   support\n",
      "\n",
      "           0       0.88      0.95      0.91     22672\n",
      "           1       0.76      0.54      0.63      6420\n",
      "\n",
      "    accuracy                           0.86     29092\n",
      "   macro avg       0.82      0.75      0.77     29092\n",
      "weighted avg       0.85      0.86      0.85     29092\n",
      "\n"
     ]
    },
    {
     "name": "stderr",
     "output_type": "stream",
     "text": [
      "C:\\Users\\ABDULBASIT\\anaconda3\\envs\\mec\\lib\\site-packages\\sklearn\\utils\\deprecation.py:87: FutureWarning: Function plot_roc_curve is deprecated; Function :func:`plot_roc_curve` is deprecated in 1.0 and will be removed in 1.2. Use one of the class methods: :meth:`sklearn.metric.RocCurveDisplay.from_predictions` or :meth:`sklearn.metric.RocCurveDisplay.from_estimator`.\n",
      "  warnings.warn(msg, category=FutureWarning)\n"
     ]
    },
    {
     "data": {
      "image/png": "[encoded data removed]",
      "text/plain": [
       "<Figure size 432x288 with 1 Axes>"
      ]
     },
     "metadata": {
      "needs_background": "light"
     },
     "output_type": "display_data"
    }
   ],
   "source": [
    "metrics_function(y_test,y_pred,CB,X_test)"
   ]
  },
  {
   "cell_type": "markdown",
   "metadata": {},
   "source": [
    "### wow this is actually nice, XGBClassifier and CatBoostClassifier have the same accuracy_score and AUC"
   ]
  },
  {
   "cell_type": "markdown",
   "metadata": {},
   "source": [
    "i will check the feature importance of the XGBClassifier and CatBoostClassifier to see which features are very important in this prediction"
   ]
  },
  {
   "cell_type": "code",
   "execution_count": 113,
   "metadata": {},
   "outputs": [],
   "source": [
    "# for XGB\n",
    "feature_importance = pd.DataFrame(XGB.feature_importances_,index=XGB.feature_names_in_,columns=['feature importance'])"
   ]
  },
  {
   "cell_type": "code",
   "execution_count": 115,
   "metadata": {},
   "outputs": [
    {
     "data": {
      "text/html": [
       "<div>\n",
       "<style scoped>\n",
       "    .dataframe tbody tr th:only-of-type {\n",
       "        vertical-align: middle;\n",
       "    }\n",
       "\n",
       "    .dataframe tbody tr th {\n",
       "        vertical-align: top;\n",
       "    }\n",
       "\n",
       "    .dataframe thead th {\n",
       "        text-align: right;\n",
       "    }\n",
       "</style>\n",
       "<table border=\"1\" class=\"dataframe\">\n",
       "  <thead>\n",
       "    <tr style=\"text-align: right;\">\n",
       "      <th></th>\n",
       "      <th>feature importance</th>\n",
       "    </tr>\n",
       "  </thead>\n",
       "  <tbody>\n",
       "    <tr>\n",
       "      <th>Humidity3pm</th>\n",
       "      <td>0.310983</td>\n",
       "    </tr>\n",
       "    <tr>\n",
       "      <th>RainToday</th>\n",
       "      <td>0.086697</td>\n",
       "    </tr>\n",
       "    <tr>\n",
       "      <th>WindGustSpeed</th>\n",
       "      <td>0.086201</td>\n",
       "    </tr>\n",
       "    <tr>\n",
       "      <th>Pressure3pm</th>\n",
       "      <td>0.048176</td>\n",
       "    </tr>\n",
       "    <tr>\n",
       "      <th>Rainfall</th>\n",
       "      <td>0.047871</td>\n",
       "    </tr>\n",
       "    <tr>\n",
       "      <th>Cloud3pm</th>\n",
       "      <td>0.038994</td>\n",
       "    </tr>\n",
       "    <tr>\n",
       "      <th>Location</th>\n",
       "      <td>0.033907</td>\n",
       "    </tr>\n",
       "    <tr>\n",
       "      <th>WindDir3pm</th>\n",
       "      <td>0.032581</td>\n",
       "    </tr>\n",
       "    <tr>\n",
       "      <th>Sunshine</th>\n",
       "      <td>0.028837</td>\n",
       "    </tr>\n",
       "    <tr>\n",
       "      <th>MaxTemp</th>\n",
       "      <td>0.024131</td>\n",
       "    </tr>\n",
       "    <tr>\n",
       "      <th>Pressure9am</th>\n",
       "      <td>0.024094</td>\n",
       "    </tr>\n",
       "    <tr>\n",
       "      <th>date_month</th>\n",
       "      <td>0.023122</td>\n",
       "    </tr>\n",
       "    <tr>\n",
       "      <th>MinTemp</th>\n",
       "      <td>0.022426</td>\n",
       "    </tr>\n",
       "    <tr>\n",
       "      <th>Humidity9am</th>\n",
       "      <td>0.022025</td>\n",
       "    </tr>\n",
       "    <tr>\n",
       "      <th>WindGustDir</th>\n",
       "      <td>0.021661</td>\n",
       "    </tr>\n",
       "    <tr>\n",
       "      <th>Temp3pm</th>\n",
       "      <td>0.021259</td>\n",
       "    </tr>\n",
       "    <tr>\n",
       "      <th>Temp9am</th>\n",
       "      <td>0.021177</td>\n",
       "    </tr>\n",
       "    <tr>\n",
       "      <th>WindSpeed3pm</th>\n",
       "      <td>0.021150</td>\n",
       "    </tr>\n",
       "    <tr>\n",
       "      <th>WindDir9am</th>\n",
       "      <td>0.020778</td>\n",
       "    </tr>\n",
       "    <tr>\n",
       "      <th>WindSpeed9am</th>\n",
       "      <td>0.017587</td>\n",
       "    </tr>\n",
       "    <tr>\n",
       "      <th>Cloud9am</th>\n",
       "      <td>0.017541</td>\n",
       "    </tr>\n",
       "    <tr>\n",
       "      <th>date_day</th>\n",
       "      <td>0.014768</td>\n",
       "    </tr>\n",
       "    <tr>\n",
       "      <th>Evaporation</th>\n",
       "      <td>0.014034</td>\n",
       "    </tr>\n",
       "  </tbody>\n",
       "</table>\n",
       "</div>"
      ],
      "text/plain": [
       "               feature importance\n",
       "Humidity3pm              0.310983\n",
       "RainToday                0.086697\n",
       "WindGustSpeed            0.086201\n",
       "Pressure3pm              0.048176\n",
       "Rainfall                 0.047871\n",
       "Cloud3pm                 0.038994\n",
       "Location                 0.033907\n",
       "WindDir3pm               0.032581\n",
       "Sunshine                 0.028837\n",
       "MaxTemp                  0.024131\n",
       "Pressure9am              0.024094\n",
       "date_month               0.023122\n",
       "MinTemp                  0.022426\n",
       "Humidity9am              0.022025\n",
       "WindGustDir              0.021661\n",
       "Temp3pm                  0.021259\n",
       "Temp9am                  0.021177\n",
       "WindSpeed3pm             0.021150\n",
       "WindDir9am               0.020778\n",
       "WindSpeed9am             0.017587\n",
       "Cloud9am                 0.017541\n",
       "date_day                 0.014768\n",
       "Evaporation              0.014034"
      ]
     },
     "execution_count": 115,
     "metadata": {},
     "output_type": "execute_result"
    }
   ],
   "source": [
    "feature_importance.sort_values(['feature importance'],ascending=False)"
   ]
  },
  {
   "cell_type": "code",
   "execution_count": 116,
   "metadata": {},
   "outputs": [
    {
     "data": {
      "text/html": [
       "<div>\n",
       "<style scoped>\n",
       "    .dataframe tbody tr th:only-of-type {\n",
       "        vertical-align: middle;\n",
       "    }\n",
       "\n",
       "    .dataframe tbody tr th {\n",
       "        vertical-align: top;\n",
       "    }\n",
       "\n",
       "    .dataframe thead th {\n",
       "        text-align: right;\n",
       "    }\n",
       "</style>\n",
       "<table border=\"1\" class=\"dataframe\">\n",
       "  <thead>\n",
       "    <tr style=\"text-align: right;\">\n",
       "      <th></th>\n",
       "      <th>Feature Id</th>\n",
       "      <th>Importances</th>\n",
       "    </tr>\n",
       "  </thead>\n",
       "  <tbody>\n",
       "    <tr>\n",
       "      <th>0</th>\n",
       "      <td>Humidity3pm</td>\n",
       "      <td>17.274397</td>\n",
       "    </tr>\n",
       "    <tr>\n",
       "      <th>1</th>\n",
       "      <td>Location</td>\n",
       "      <td>9.002159</td>\n",
       "    </tr>\n",
       "    <tr>\n",
       "      <th>2</th>\n",
       "      <td>Pressure3pm</td>\n",
       "      <td>8.864261</td>\n",
       "    </tr>\n",
       "    <tr>\n",
       "      <th>3</th>\n",
       "      <td>WindGustSpeed</td>\n",
       "      <td>6.763749</td>\n",
       "    </tr>\n",
       "    <tr>\n",
       "      <th>4</th>\n",
       "      <td>Pressure9am</td>\n",
       "      <td>5.564372</td>\n",
       "    </tr>\n",
       "    <tr>\n",
       "      <th>5</th>\n",
       "      <td>MaxTemp</td>\n",
       "      <td>4.505399</td>\n",
       "    </tr>\n",
       "    <tr>\n",
       "      <th>6</th>\n",
       "      <td>Sunshine</td>\n",
       "      <td>3.998388</td>\n",
       "    </tr>\n",
       "    <tr>\n",
       "      <th>7</th>\n",
       "      <td>MinTemp</td>\n",
       "      <td>3.738786</td>\n",
       "    </tr>\n",
       "    <tr>\n",
       "      <th>8</th>\n",
       "      <td>WindDir3pm</td>\n",
       "      <td>3.703085</td>\n",
       "    </tr>\n",
       "    <tr>\n",
       "      <th>9</th>\n",
       "      <td>Rainfall</td>\n",
       "      <td>3.583727</td>\n",
       "    </tr>\n",
       "    <tr>\n",
       "      <th>10</th>\n",
       "      <td>date_month</td>\n",
       "      <td>3.489079</td>\n",
       "    </tr>\n",
       "    <tr>\n",
       "      <th>11</th>\n",
       "      <td>Temp9am</td>\n",
       "      <td>3.371859</td>\n",
       "    </tr>\n",
       "    <tr>\n",
       "      <th>12</th>\n",
       "      <td>Temp3pm</td>\n",
       "      <td>3.362248</td>\n",
       "    </tr>\n",
       "    <tr>\n",
       "      <th>13</th>\n",
       "      <td>Humidity9am</td>\n",
       "      <td>3.217645</td>\n",
       "    </tr>\n",
       "    <tr>\n",
       "      <th>14</th>\n",
       "      <td>WindSpeed3pm</td>\n",
       "      <td>2.898811</td>\n",
       "    </tr>\n",
       "    <tr>\n",
       "      <th>15</th>\n",
       "      <td>WindGustDir</td>\n",
       "      <td>2.709781</td>\n",
       "    </tr>\n",
       "    <tr>\n",
       "      <th>16</th>\n",
       "      <td>date_day</td>\n",
       "      <td>2.533105</td>\n",
       "    </tr>\n",
       "    <tr>\n",
       "      <th>17</th>\n",
       "      <td>WindDir9am</td>\n",
       "      <td>2.486239</td>\n",
       "    </tr>\n",
       "    <tr>\n",
       "      <th>18</th>\n",
       "      <td>Evaporation</td>\n",
       "      <td>2.251984</td>\n",
       "    </tr>\n",
       "    <tr>\n",
       "      <th>19</th>\n",
       "      <td>Cloud3pm</td>\n",
       "      <td>2.106924</td>\n",
       "    </tr>\n",
       "    <tr>\n",
       "      <th>20</th>\n",
       "      <td>WindSpeed9am</td>\n",
       "      <td>1.721733</td>\n",
       "    </tr>\n",
       "    <tr>\n",
       "      <th>21</th>\n",
       "      <td>Cloud9am</td>\n",
       "      <td>1.497029</td>\n",
       "    </tr>\n",
       "    <tr>\n",
       "      <th>22</th>\n",
       "      <td>RainToday</td>\n",
       "      <td>1.355238</td>\n",
       "    </tr>\n",
       "  </tbody>\n",
       "</table>\n",
       "</div>"
      ],
      "text/plain": [
       "       Feature Id  Importances\n",
       "0     Humidity3pm    17.274397\n",
       "1        Location     9.002159\n",
       "2     Pressure3pm     8.864261\n",
       "3   WindGustSpeed     6.763749\n",
       "4     Pressure9am     5.564372\n",
       "5         MaxTemp     4.505399\n",
       "6        Sunshine     3.998388\n",
       "7         MinTemp     3.738786\n",
       "8      WindDir3pm     3.703085\n",
       "9        Rainfall     3.583727\n",
       "10     date_month     3.489079\n",
       "11        Temp9am     3.371859\n",
       "12        Temp3pm     3.362248\n",
       "13    Humidity9am     3.217645\n",
       "14   WindSpeed3pm     2.898811\n",
       "15    WindGustDir     2.709781\n",
       "16       date_day     2.533105\n",
       "17     WindDir9am     2.486239\n",
       "18    Evaporation     2.251984\n",
       "19       Cloud3pm     2.106924\n",
       "20   WindSpeed9am     1.721733\n",
       "21       Cloud9am     1.497029\n",
       "22      RainToday     1.355238"
      ]
     },
     "execution_count": 116,
     "metadata": {},
     "output_type": "execute_result"
    }
   ],
   "source": [
    "# for catboost\n",
    "CB.get_feature_importance(prettified=True)"
   ]
  },
  {
   "cell_type": "markdown",
   "metadata": {},
   "source": [
    "comparing the two predictd values of XGBoost and CatBoost"
   ]
  },
  {
   "cell_type": "code",
   "execution_count": 127,
   "metadata": {},
   "outputs": [
    {
     "data": {
      "text/plain": [
       "<seaborn.axisgrid.PairGrid at 0x298c8bf1c10>"
      ]
     },
     "execution_count": 127,
     "metadata": {},
     "output_type": "execute_result"
    },
    {
     "data": {
      "text/plain": [
       "<Figure size 864x504 with 0 Axes>"
      ]
     },
     "metadata": {},
     "output_type": "display_data"
    },
    {
     "data": {
      "image/png": "[encoded data removed]",
      "text/plain": [
       "<Figure size 360x360 with 6 Axes>"
      ]
     },
     "metadata": {
      "needs_background": "light"
     },
     "output_type": "display_data"
    }
   ],
   "source": [
    "import matplotlib.pyplot as plt\n",
    "import seaborn as sns\n",
    "comparison =  pd.DataFrame(list(zip(CB.predict(X_test),XGB.predict(X_test))),columns=['predicted_CB_values','predicted_XGB_values'])\n",
    "plt.figure(figsize=(12,7))\n",
    "sns.pairplot(comparison)\n"
   ]
  },
  {
   "cell_type": "markdown",
   "metadata": {},
   "source": [
    "so save our model, both XGB and CB"
   ]
  },
  {
   "cell_type": "code",
   "execution_count": 118,
   "metadata": {},
   "outputs": [],
   "source": [
    "# Catboost saving model\n",
    "CB.save_model('catboost_rain_model',format='cbm')"
   ]
  },
  {
   "cell_type": "code",
   "execution_count": 119,
   "metadata": {},
   "outputs": [],
   "source": [
    "# XGboost saving model\n",
    "# here we will use pickle to save this one.\n",
    "import pickle\n",
    "\n",
    "\n",
    "pickle.dump(XGB,open('XGB_rain_model.pkl','wb'))"
   ]
  },
  {
   "cell_type": "code",
   "execution_count": null,
   "metadata": {},
   "outputs": [],
   "source": []
  }
 ],
 "metadata": {
  "interpreter": {
   "hash": "0301237fee5c1f7c78367cff39d68562d9dacdddc3fb31749b7462d8b153995e"
  },
  "kernelspec": {
   "display_name": "Python 3.9.12 64-bit (windows store)",
   "language": "python",
   "name": "python3"
  },
  "language_info": {
   "codemirror_mode": {
    "name": "ipython",
    "version": 3
   },
   "file_extension": ".py",
   "mimetype": "text/x-python",
   "name": "python",
   "nbconvert_exporter": "python",
   "pygments_lexer": "ipython3",
   "version": "3.9.12"
  },
  "orig_nbformat": 4
 },
 "nbformat": 4,
 "nbformat_minor": 2
}
